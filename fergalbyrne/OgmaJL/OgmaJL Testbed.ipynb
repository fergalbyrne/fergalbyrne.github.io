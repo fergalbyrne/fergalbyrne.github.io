{
 "cells": [
  {
   "cell_type": "code",
   "execution_count": 1,
   "metadata": {},
   "outputs": [
    {
     "name": "stderr",
     "output_type": "stream",
     "text": [
      "\u001b[32m\u001b[1m Activating\u001b[22m\u001b[39m environment at `~/.juliapro/JuliaPro_v1.4.2-1/environments/ScriptEnvironment/Project.toml`\n"
     ]
    },
    {
     "name": "stdout",
     "output_type": "stream",
     "text": [
      "\u001b[?25l    "
     ]
    },
    {
     "name": "stderr",
     "output_type": "stream",
     "text": [
      "\u001b[32m\u001b[1m   Updating\u001b[22m\u001b[39m git-repo `/Users/fergalbyrne/src/ogmajl/OgmaJL`\n"
     ]
    },
    {
     "name": "stdout",
     "output_type": "stream",
     "text": [
      "\u001b[36m\u001b[1mFetching:\u001b[22m\u001b[39m [>                                        ]  0.0 %\r",
      "    \u001b[36m\u001b[1mFetching:\u001b[22m\u001b[39m [=>                                       ]  0.4 %\r",
      "    \u001b[36m\u001b[1mFetching:\u001b[22m\u001b[39m [=>                                       ]  0.9 %\r",
      "    \u001b[36m\u001b[1mFetching:\u001b[22m\u001b[39m [=>                                       ]  1.3 %\r",
      "    \u001b[36m\u001b[1mFetching:\u001b[22m\u001b[39m [=>                                       ]  1.8 %\r",
      "    \u001b[36m\u001b[1mFetching:\u001b[22m\u001b[39m [=>                                       ]  2.2 %\r",
      "    \u001b[36m\u001b[1mFetching:\u001b[22m\u001b[39m [==>                                      ]  2.6 %\r",
      "    \u001b[36m\u001b[1mFetching:\u001b[22m\u001b[39m [==>                                      ]  3.1 %\r",
      "    \u001b[36m\u001b[1mFetching:\u001b[22m\u001b[39m [==>                                      ]  3.5 %\r",
      "    \u001b[36m\u001b[1mFetching:\u001b[22m\u001b[39m [==>                                      ]  4.0 %\r",
      "    \u001b[36m\u001b[1mFetching:\u001b[22m\u001b[39m [==>                                      ]  4.4 %\r",
      "    \u001b[36m\u001b[1mFetching:\u001b[22m\u001b[39m [==>                                      ]  4.8 %\r",
      "    \u001b[36m\u001b[1mFetching:\u001b[22m\u001b[39m [===>                                     ]  5.3 %\r",
      "    \u001b[36m\u001b[1mFetching:\u001b[22m\u001b[39m [===>                                     ]  5.7 %\r",
      "    \u001b[36m\u001b[1mFetching:\u001b[22m\u001b[39m [===>                                     ]  6.2 %\r",
      "    \u001b[36m\u001b[1mFetching:\u001b[22m\u001b[39m [===>                                     ]  6.6 %\r",
      "    \u001b[36m\u001b[1mFetching:\u001b[22m\u001b[39m [===>                                     ]  7.0 %\r",
      "    \u001b[36m\u001b[1mFetching:\u001b[22m\u001b[39m [===>                                     ]  7.5 %\r",
      "    \u001b[36m\u001b[1mFetching:\u001b[22m\u001b[39m [====>                                    ]  7.9 %\r",
      "    \u001b[36m\u001b[1mFetching:\u001b[22m\u001b[39m [====>                                    ]  8.4 %\r",
      "    \u001b[36m\u001b[1mFetching:\u001b[22m\u001b[39m [====>                                    ]  8.8 %\r",
      "    \u001b[36m\u001b[1mFetching:\u001b[22m\u001b[39m [====>                                    ]  9.3 %\r",
      "    \u001b[36m\u001b[1mFetching:\u001b[22m\u001b[39m [====>                                    ]  9.7 %\r",
      "    \u001b[36m\u001b[1mFetching:\u001b[22m\u001b[39m [=====>                                   ]  10.1 %\r",
      "    \u001b[36m\u001b[1mFetching:\u001b[22m\u001b[39m [=====>                                   ]  10.6 %\r",
      "    \u001b[36m\u001b[1mFetching:\u001b[22m\u001b[39m [=====>                                   ]  11.0 %\r",
      "    \u001b[36m\u001b[1mFetching:\u001b[22m\u001b[39m [=====>                                   ]  11.5 %\r",
      "    \u001b[36m\u001b[1mFetching:\u001b[22m\u001b[39m [=====>                                   ]  11.9 %\r",
      "    \u001b[36m\u001b[1mFetching:\u001b[22m\u001b[39m [=====>                                   ]  12.3 %\r",
      "    \u001b[36m\u001b[1mFetching:\u001b[22m\u001b[39m [======>                                  ]  12.8 %\r",
      "    \u001b[36m\u001b[1mFetching:\u001b[22m\u001b[39m [======>                                  ]  13.2 %\r",
      "    \u001b[36m\u001b[1mFetching:\u001b[22m\u001b[39m [======>                                  ]  13.7 %\r",
      "    \u001b[36m\u001b[1mFetching:\u001b[22m\u001b[39m [======>                                  ]  14.1 %\r",
      "    \u001b[36m\u001b[1mFetching:\u001b[22m\u001b[39m [======>                                  ]  14.5 %\r",
      "    \u001b[36m\u001b[1mFetching:\u001b[22m\u001b[39m [======>                                  ]  15.0 %\r",
      "    \u001b[36m\u001b[1mFetching:\u001b[22m\u001b[39m [=======>                                 ]  15.4 %\r",
      "    \u001b[36m\u001b[1mFetching:\u001b[22m\u001b[39m [=======>                                 ]  15.9 %\r",
      "    \u001b[36m\u001b[1mFetching:\u001b[22m\u001b[39m [=======>                                 ]  16.3 %\r",
      "    \u001b[36m\u001b[1mFetching:\u001b[22m\u001b[39m [=======>                                 ]  16.7 %\r",
      "    \u001b[36m\u001b[1mFetching:\u001b[22m\u001b[39m [=======>                                 ]  17.2 %\r",
      "    \u001b[36m\u001b[1mFetching:\u001b[22m\u001b[39m [========>                                ]  17.6 %\r",
      "    \u001b[36m\u001b[1mFetching:\u001b[22m\u001b[39m [========>                                ]  18.1 %\r",
      "    \u001b[36m\u001b[1mFetching:\u001b[22m\u001b[39m [========>                                ]  18.5 %\r",
      "    \u001b[36m\u001b[1mFetching:\u001b[22m\u001b[39m [========>                                ]  18.9 %\r",
      "    \u001b[36m\u001b[1mFetching:\u001b[22m\u001b[39m [========>                                ]  19.4 %\r",
      "    \u001b[36m\u001b[1mFetching:\u001b[22m\u001b[39m [========>                                ]  19.8 %\r",
      "    \u001b[36m\u001b[1mFetching:\u001b[22m\u001b[39m [=========>                               ]  20.3 %\r",
      "    \u001b[36m\u001b[1mFetching:\u001b[22m\u001b[39m [=========>                               ]  20.7 %\r",
      "    \u001b[36m\u001b[1mFetching:\u001b[22m\u001b[39m [=========>                               ]  21.1 %\r",
      "    \u001b[36m\u001b[1mFetching:\u001b[22m\u001b[39m [=========>                               ]  21.6 %\r",
      "    \u001b[36m\u001b[1mFetching:\u001b[22m\u001b[39m [=========>                               ]  22.0 %\r",
      "    \u001b[36m\u001b[1mFetching:\u001b[22m\u001b[39m [=========>                               ]  22.5 %\r",
      "    \u001b[36m\u001b[1mFetching:\u001b[22m\u001b[39m [==========>                              ]  22.9 %\r",
      "    \u001b[36m\u001b[1mFetching:\u001b[22m\u001b[39m [==========>                              ]  23.3 %\r",
      "    \u001b[36m\u001b[1mFetching:\u001b[22m\u001b[39m [==========>                              ]  23.8 %\r",
      "    \u001b[36m\u001b[1mFetching:\u001b[22m\u001b[39m [==========>                              ]  24.2 %\r",
      "    \u001b[36m\u001b[1mFetching:\u001b[22m\u001b[39m [==========>                              ]  24.7 %\r",
      "    \u001b[36m\u001b[1mFetching:\u001b[22m\u001b[39m [===========>                             ]  25.1 %\r",
      "    \u001b[36m\u001b[1mFetching:\u001b[22m\u001b[39m [===========>                             ]  25.6 %\r",
      "    \u001b[36m\u001b[1mFetching:\u001b[22m\u001b[39m [===========>                             ]  26.0 %\r",
      "    \u001b[36m\u001b[1mFetching:\u001b[22m\u001b[39m [===========>                             ]  26.4 %\r",
      "    \u001b[36m\u001b[1mFetching:\u001b[22m\u001b[39m [===========>                             ]  26.9 %\r",
      "    \u001b[36m\u001b[1mFetching:\u001b[22m\u001b[39m [===========>                             ]  27.3 %\r",
      "    \u001b[36m\u001b[1mFetching:\u001b[22m\u001b[39m [============>                            ]  27.8 %\r",
      "    \u001b[36m\u001b[1mFetching:\u001b[22m\u001b[39m [============>                            ]  28.2 %\r",
      "    \u001b[36m\u001b[1mFetching:\u001b[22m\u001b[39m [============>                            ]  28.6 %\r",
      "    \u001b[36m\u001b[1mFetching:\u001b[22m\u001b[39m [============>                            ]  29.1 %\r",
      "    \u001b[36m\u001b[1mFetching:\u001b[22m\u001b[39m [============>                            ]  29.5 %\r",
      "    \u001b[36m\u001b[1mFetching:\u001b[22m\u001b[39m [============>                            ]  30.0 %\r",
      "    \u001b[36m\u001b[1mFetching:\u001b[22m\u001b[39m [=============>                           ]  30.4 %\r",
      "    \u001b[36m\u001b[1mFetching:\u001b[22m\u001b[39m [=============>                           ]  30.8 %\r",
      "    \u001b[36m\u001b[1mFetching:\u001b[22m\u001b[39m [=============>                           ]  31.3 %\r",
      "    \u001b[36m\u001b[1mFetching:\u001b[22m\u001b[39m [=============>                           ]  31.7 %\r",
      "    \u001b[36m\u001b[1mFetching:\u001b[22m\u001b[39m [=============>                           ]  32.2 %\r",
      "    \u001b[36m\u001b[1mFetching:\u001b[22m\u001b[39m [==============>                          ]  32.6 %\r",
      "    \u001b[36m\u001b[1mFetching:\u001b[22m\u001b[39m [==============>                          ]  33.0 %\r",
      "    \u001b[36m\u001b[1mFetching:\u001b[22m\u001b[39m [==============>                          ]  33.5 %\r",
      "    \u001b[36m\u001b[1mFetching:\u001b[22m\u001b[39m [==============>                          ]  33.9 %\r",
      "    \u001b[36m\u001b[1mFetching:\u001b[22m\u001b[39m [==============>                          ]  34.4 %\r",
      "    \u001b[36m\u001b[1mFetching:\u001b[22m\u001b[39m [==============>                          ]  34.8 %\r",
      "    \u001b[36m\u001b[1mFetching:\u001b[22m\u001b[39m [===============>                         ]  35.2 %\r",
      "    \u001b[36m\u001b[1mFetching:\u001b[22m\u001b[39m [===============>                         ]  35.7 %\r",
      "    \u001b[36m\u001b[1mFetching:\u001b[22m\u001b[39m [===============>                         ]  36.1 %\r",
      "    \u001b[36m\u001b[1mFetching:\u001b[22m\u001b[39m [===============>                         ]  36.6 %\r",
      "    \u001b[36m\u001b[1mFetching:\u001b[22m\u001b[39m [===============>                         ]  37.0 %\r",
      "    \u001b[36m\u001b[1mFetching:\u001b[22m\u001b[39m [===============>                         ]  37.4 %\r",
      "    \u001b[36m\u001b[1mFetching:\u001b[22m\u001b[39m [================>                        ]  37.9 %\r",
      "    \u001b[36m\u001b[1mFetching:\u001b[22m\u001b[39m [================>                        ]  38.3 %\r",
      "    \u001b[36m\u001b[1mFetching:\u001b[22m\u001b[39m [================>                        ]  38.8 %\r",
      "    \u001b[36m\u001b[1mFetching:\u001b[22m\u001b[39m [================>                        ]  39.2 %\r",
      "    \u001b[36m\u001b[1mFetching:\u001b[22m\u001b[39m [================>                        ]  39.6 %\r",
      "    \u001b[36m\u001b[1mFetching:\u001b[22m\u001b[39m [=================>                       ]  40.1 %\r",
      "    \u001b[36m\u001b[1mFetching:\u001b[22m\u001b[39m [=================>                       ]  40.5 %\r",
      "    \u001b[36m\u001b[1mFetching:\u001b[22m\u001b[39m [=================>                       ]  41.0 %\r",
      "    \u001b[36m\u001b[1mFetching:\u001b[22m\u001b[39m [=================>                       ]  41.4 %\r",
      "    \u001b[36m\u001b[1mFetching:\u001b[22m\u001b[39m [=================>                       ]  41.9 %\r",
      "    \u001b[36m\u001b[1mFetching:\u001b[22m\u001b[39m [=================>                       ]  42.3 %\r",
      "    \u001b[36m\u001b[1mFetching:\u001b[22m\u001b[39m [==================>                      ]  42.7 %\r",
      "    \u001b[36m\u001b[1mFetching:\u001b[22m\u001b[39m [==================>                      ]  43.2 %\r",
      "    \u001b[36m\u001b[1mFetching:\u001b[22m\u001b[39m [==================>                      ]  43.6 %\r",
      "    \u001b[36m\u001b[1mFetching:\u001b[22m\u001b[39m [==================>                      ]  44.1 %\r",
      "    \u001b[36m\u001b[1mFetching:\u001b[22m\u001b[39m [==================>                      ]  44.5 %\r",
      "    \u001b[36m\u001b[1mFetching:\u001b[22m\u001b[39m [==================>                      ]  44.9 %\r",
      "    \u001b[36m\u001b[1mFetching:\u001b[22m\u001b[39m [===================>                     ]  45.4 %\r",
      "    \u001b[36m\u001b[1mFetching:\u001b[22m\u001b[39m [===================>                     ]  45.8 %\r",
      "    \u001b[36m\u001b[1mFetching:\u001b[22m\u001b[39m [===================>                     ]  46.3 %\r",
      "    \u001b[36m\u001b[1mFetching:\u001b[22m\u001b[39m [===================>                     ]  46.7 %\r",
      "    \u001b[36m\u001b[1mFetching:\u001b[22m\u001b[39m [===================>                     ]  47.1 %\r",
      "    \u001b[36m\u001b[1mFetching:\u001b[22m\u001b[39m [====================>                    ]  47.6 %\r",
      "    \u001b[36m\u001b[1mFetching:\u001b[22m\u001b[39m [====================>                    ]  48.0 %\r",
      "    \u001b[36m\u001b[1mFetching:\u001b[22m\u001b[39m [====================>                    ]  48.5 %\r",
      "    \u001b[36m\u001b[1mFetching:\u001b[22m\u001b[39m [====================>                    ]  48.9 %\r",
      "    \u001b[36m\u001b[1mFetching:\u001b[22m\u001b[39m [====================>                    ]  49.3 %\r",
      "    \u001b[36m\u001b[1mFetching:\u001b[22m\u001b[39m [====================>                    ]  49.8 %\r",
      "    \u001b[36m\u001b[1mFetching:\u001b[22m\u001b[39m [=====================>                   ]  50.2 %\r",
      "    \u001b[36m\u001b[1mFetching:\u001b[22m\u001b[39m [=====================>                   ]  50.7 %\r",
      "    \u001b[36m\u001b[1mFetching:\u001b[22m\u001b[39m [=====================>                   ]  51.1 %\r",
      "    \u001b[36m\u001b[1mFetching:\u001b[22m\u001b[39m [=====================>                   ]  51.5 %\r",
      "    \u001b[36m\u001b[1mFetching:\u001b[22m\u001b[39m [=====================>                   ]  52.0 %\r",
      "    \u001b[36m\u001b[1mFetching:\u001b[22m\u001b[39m [=====================>                   ]  52.4 %\r",
      "    \u001b[36m\u001b[1mFetching:\u001b[22m\u001b[39m [======================>                  ]  "
     ]
    },
    {
     "name": "stdout",
     "output_type": "stream",
     "text": [
      "\u001b[2K\u001b[?25h[1mFetching:\u001b[22m\u001b[39m [========================================>]  100.0 %"
     ]
    },
    {
     "name": "stderr",
     "output_type": "stream",
     "text": [
      "\u001b[32m\u001b[1m   Updating\u001b[22m\u001b[39m registry at `~/.juliapro/JuliaPro_v1.4.2-1/registries/JuliaPro`\n",
      "######################################################################### 100.0%\n",
      "\u001b[32m\u001b[1m  Resolving\u001b[22m\u001b[39m package versions...\n",
      "\u001b[32m\u001b[1m   Updating\u001b[22m\u001b[39m `~/.juliapro/JuliaPro_v1.4.2-1/environments/ScriptEnvironment/Project.toml`\n",
      " \u001b[90m [1d1ac247]\u001b[39m\u001b[93m ↑ OgmaJL v0.2.1 #master (/Users/fergalbyrne/src/ogmajl/OgmaJL) ⇒ v0.3.1 #master (/Users/fergalbyrne/src/ogmajl/OgmaJL)\u001b[39m\n",
      "\u001b[32m\u001b[1m   Updating\u001b[22m\u001b[39m `~/.juliapro/JuliaPro_v1.4.2-1/environments/ScriptEnvironment/Manifest.toml`\n",
      " \u001b[90m [1d1ac247]\u001b[39m\u001b[93m ↑ OgmaJL v0.2.1 #master (/Users/fergalbyrne/src/ogmajl/OgmaJL) ⇒ v0.3.1 #master (/Users/fergalbyrne/src/ogmajl/OgmaJL)\u001b[39m\n",
      "┌ Info: Precompiling OgmaJL [1d1ac247-29ad-408a-a8db-7f943c355b0e]\n",
      "└ @ Base loading.jl:1260\n"
     ]
    }
   ],
   "source": [
    "using Pkg\n",
    "Pkg.activate(\"ScriptEnvironment\"; shared=true)\n",
    "Pkg.add(Pkg.PackageSpec(; path=\"/users/fergalbyrne/src/ogmajl/OgmaJL\"))\n",
    "using OgmaJL"
   ]
  },
  {
   "cell_type": "code",
   "execution_count": 2,
   "metadata": {},
   "outputs": [],
   "source": [
    "import Random"
   ]
  },
  {
   "cell_type": "code",
   "execution_count": 3,
   "metadata": {},
   "outputs": [],
   "source": [
    "struct Hierarchy \n",
    "    inputSizes\n",
    "    hiddenSizes\n",
    "    radii\n",
    "    tickLengths\n",
    "    encoders\n",
    "    decoders\n",
    "end"
   ]
  },
  {
   "cell_type": "code",
   "execution_count": 4,
   "metadata": {},
   "outputs": [
    {
     "data": {
      "text/plain": [
       "make_encoder (generic function with 1 method)"
      ]
     },
     "execution_count": 4,
     "metadata": {},
     "output_type": "execute_result"
    }
   ],
   "source": [
    "function make_encoder(i, inputSizes, hiddenSizes, radii, tickLengths)\n",
    "    if i == 1\n",
    "        SparseFocalEncoder(inputSizes, hiddenSizes[i], radii[i])\n",
    "    else\n",
    "        ins = fill(hiddenSizes[i - 1], tickLengths[i])\n",
    "        SparseFocalEncoder(ins, hiddenSizes[i], radii[i])\n",
    "    end\n",
    "end"
   ]
  },
  {
   "cell_type": "code",
   "execution_count": 5,
   "metadata": {},
   "outputs": [
    {
     "data": {
      "text/plain": [
       "make_predictors (generic function with 1 method)"
      ]
     },
     "execution_count": 5,
     "metadata": {},
     "output_type": "execute_result"
    }
   ],
   "source": [
    "function make_predictors(i, inputSizes, hiddenSizes, radii, tickLengths)\n",
    "    if i == 1\n",
    "        [SparseFocalEncoder(fill(hiddenSizes[i], 2), inputSize, radii[i]) for inputSize in inputSizes]\n",
    "    else\n",
    "        outs = fill(hiddenSizes[i - 1], tickLengths[i])\n",
    "        [SparseFocalEncoder(fill(hiddenSizes[i], 2), out, radii[i]) for out in outs]\n",
    "    end\n",
    "end"
   ]
  },
  {
   "cell_type": "code",
   "execution_count": 6,
   "metadata": {},
   "outputs": [
    {
     "data": {
      "text/plain": [
       "Hierarchy"
      ]
     },
     "execution_count": 6,
     "metadata": {},
     "output_type": "execute_result"
    }
   ],
   "source": [
    "function Hierarchy(inputSizes, hiddenSizes, radii, tickLengths)\n",
    "    encoders = [make_encoder(i, inputSizes, hiddenSizes, radii, tickLengths) for i in 1:length(hiddenSizes)]\n",
    "    decoders = [make_predictors(i, inputSizes, hiddenSizes, radii, tickLengths) for i in 1:length(hiddenSizes)]\n",
    "    Hierarchy(inputSizes, hiddenSizes, radii, tickLengths, encoders, decoders)\n",
    "end"
   ]
  },
  {
   "cell_type": "code",
   "execution_count": 7,
   "metadata": {},
   "outputs": [
    {
     "data": {
      "text/plain": [
       "3-element Array{Int64,1}:\n",
       " 1\n",
       " 2\n",
       " 2"
      ]
     },
     "execution_count": 7,
     "metadata": {},
     "output_type": "execute_result"
    }
   ],
   "source": [
    "inSizes = [XIO3(3, 4, 3), XIO3(5, 3, 2)]\n",
    "hidSizes = [XIO3(5, 5, 3), XIO3(4, 4, 2), XIO3(3, 3, 1)]\n",
    "radii = [[1, 1], [2, 2], [1, 1]]\n",
    "tickLengths = [1, 2, 2]"
   ]
  },
  {
   "cell_type": "code",
   "execution_count": 8,
   "metadata": {},
   "outputs": [
    {
     "data": {
      "text/plain": [
       "3"
      ]
     },
     "execution_count": 8,
     "metadata": {},
     "output_type": "execute_result"
    }
   ],
   "source": [
    "Random.seed!(34567)\n",
    "h = Hierarchy(inSizes, hidSizes, radii, tickLengths)\n",
    "length(h.encoders)"
   ]
  },
  {
   "cell_type": "code",
   "execution_count": 9,
   "metadata": {},
   "outputs": [
    {
     "name": "stdout",
     "output_type": "stream",
     "text": [
      "Float32[0.5645666, 0.15309635, 0.7359637, 0.71544, 0.799425, 0.63843274, 0.016764954, 0.34932443, 0.7868037, 0.5357577, 0.30784723, 0.39956483, 0.22885388, 0.708205, 0.31170255, 0.016708238, 0.31010646, 0.946049, 0.9716537, 0.21447033, 0.89573425, 0.038455434, 0.1067517, 0.31365073, 0.68066305, 0.21302518, 0.074583754, 0.3654082, 0.6081509, 0.27897733, 0.51189524, 0.066890344, 0.28793395, 0.8672033, 0.60227334, 0.18269815, 0.8613341, 0.89417404, 0.67564845, 0.24426123, 0.80081415, 0.25180587, 0.68101585, 0.8705161, 0.59676754, 0.6805112, 0.59569776, 0.3241796, 0.08708398, 0.13321671, 0.37594044, 0.94716084, 0.19471933, 0.9137607, 0.8102125, 0.4411426, 0.48457745, 0.07716258, 0.07737787, 0.47258377, 0.12880258, 0.33035645, 0.8233179, 0.27221224, 0.7047646, 0.3407676, 0.9115499, 0.12632395, 0.80582714, 0.30223784, 0.8823254, 0.10311093, 0.2997108, 0.3291588, 0.796909, 0.078478836, 0.7173148, 0.08376813, 0.28918144, 0.007468909, 0.3401631, 0.8745441, 0.79374135, 0.6804792, 0.15814999, 0.2702826, 0.5282328, 0.13250068, 0.7684991, 0.70677763, 0.14281726, 0.6058206, 0.15742627, 0.67409974, 0.57362276, 0.5490933, 0.6110417, 0.1767838, 0.037248176, 0.94749564]\n",
      "Float32[0.8854128, 0.8214664, 0.56958574, 0.6421995, 0.6265171, 0.09633029, 0.16466148, 0.60629195, 0.36738196, 0.038677096, 0.24741077, 0.047060765, 0.2646255, 0.95474434, 0.9787265, 0.302712, 0.007952111, 0.17762323, 0.187685, 0.15917097]\n"
     ]
    }
   ],
   "source": [
    "println(h.encoders[3].weight_tensors[2].ws)\n",
    "println(h.decoders[3][1].weight_tensors[2].ws[1:20])"
   ]
  },
  {
   "cell_type": "code",
   "execution_count": 10,
   "metadata": {},
   "outputs": [
    {
     "data": {
      "text/plain": [
       "9-element Array{Float32,1}:\n",
       " 0.0\n",
       " 0.0\n",
       " 0.0\n",
       " 0.0\n",
       " 0.0\n",
       " 0.0\n",
       " 0.0\n",
       " 0.0\n",
       " 0.0"
      ]
     },
     "execution_count": 10,
     "metadata": {},
     "output_type": "execute_result"
    }
   ],
   "source": [
    "h.encoders[3].inputs[1] .= rand_array(AW, h.hiddenSizes[2])\n",
    "h.encoders[3].inputs[2] .= rand_array(AW, h.hiddenSizes[2])\n",
    "h.encoders[3].outputs .= zero_array(AW, h.hiddenSizes[3])"
   ]
  },
  {
   "cell_type": "code",
   "execution_count": 11,
   "metadata": {},
   "outputs": [
    {
     "data": {
      "text/plain": [
       "9-element Array{Float32,1}:\n",
       " -2.375828\n",
       " -1.7389026\n",
       "  0.048776746\n",
       " -0.7783632\n",
       " -1.2332242\n",
       " -0.8237661\n",
       " -0.42653063\n",
       " -1.1708118\n",
       " -0.38157976"
      ]
     },
     "execution_count": 11,
     "metadata": {},
     "output_type": "execute_result"
    }
   ],
   "source": [
    "forward!(h.encoders[3])"
   ]
  },
  {
   "cell_type": "code",
   "execution_count": 12,
   "metadata": {},
   "outputs": [],
   "source": [
    "import OgmaJL.forward!"
   ]
  },
  {
   "cell_type": "code",
   "execution_count": 13,
   "metadata": {},
   "outputs": [
    {
     "data": {
      "text/plain": [
       "forward! (generic function with 4 methods)"
      ]
     },
     "execution_count": 13,
     "metadata": {},
     "output_type": "execute_result"
    }
   ],
   "source": [
    "function forward!(m::FocalMatrix, ins::Vector{AW}, outs::Vector{AW})\n",
    "    idxW = 1\n",
    "    local diz = m.isize.z\n",
    "    local dix = 1; local diy = 1; local o = 0.0\n",
    "    osize = m.osize\n",
    "    isize = m.isize\n",
    "    ws = m.ws\n",
    "    xs, ys = m.xs, m.ys\n",
    "    local bz = isize.z\n",
    "    for ox::XIO in 1:osize.x\n",
    "        ax, bx = xs[ox, :]\n",
    "        dix = 1 + bx - ax\n",
    "        for oy::XIO in 1:osize.y\n",
    "            ay, by = ys[oy, :]\n",
    "            diy = 1 + by - ay\n",
    "            for oz::XIO in 1:osize.z\n",
    "                oPos = oz + osize.z * (oy - 1) + (osize.z * osize.y) * (ox - 1)\n",
    "                o = outs[oPos]\n",
    "                for ix::XIO in ax:bx, iy::XIO in ay:by\n",
    "                    iPos = isize.z * (iy - 1) + (isize.z * isize.y) * (ix - 1)\n",
    "                    for iz::XIO in 1:bz\n",
    "                        o = o + ins[iPos + iz] * ws[idxW + iz]\n",
    "                    end\n",
    "                    idxW += diz\n",
    "                end\n",
    "                outs[oPos] = o\n",
    "            end\n",
    "        end\n",
    "    end\n",
    "    outs\n",
    "end"
   ]
  },
  {
   "cell_type": "code",
   "execution_count": 14,
   "metadata": {},
   "outputs": [
    {
     "data": {
      "text/plain": [
       "forward! (generic function with 4 methods)"
      ]
     },
     "execution_count": 14,
     "metadata": {},
     "output_type": "execute_result"
    }
   ],
   "source": [
    "function forward!(e::SparseFocalEncoder)\n",
    "    for i in 1:length(e.weight_tensors)\n",
    "        e.outputs .= forward!(e.weight_tensors[i], e.inputs[i], e.outputs)\n",
    "        println(i, e.outputs)\n",
    "    end\n",
    "    e.outputs\n",
    "end"
   ]
  },
  {
   "cell_type": "code",
   "execution_count": 15,
   "metadata": {},
   "outputs": [
    {
     "data": {
      "text/plain": [
       "forward! (generic function with 5 methods)"
      ]
     },
     "execution_count": 15,
     "metadata": {},
     "output_type": "execute_result"
    }
   ],
   "source": [
    "function forward!(h::Hierarchy, ins::Vector{Vector{AW}})\n",
    "    h.encoders[1].inputs .= ins\n",
    "    for e in 1:length(h.encoders)\n",
    "        if e > 1\n",
    "            for j in 2:length(h.encoders[e].inputs)\n",
    "                h.encoders[e].inputs[j] .= h.encoders[e].inputs[j - 1]\n",
    "            end\n",
    "            h.encoders[e].inputs[1] .= h.encoders[e - 1].outputs\n",
    "        end\n",
    "        h.encoders[e].outputs .= 0.0\n",
    "        forward!(h.encoders[e])  \n",
    "        println(\"level $e:\\ninputs:\\n\", h.encoders[e].inputs, \"\\noutputs:\\n\", h.encoders[e].outputs)\n",
    "    end\n",
    "end"
   ]
  },
  {
   "cell_type": "code",
   "execution_count": 16,
   "metadata": {},
   "outputs": [
    {
     "data": {
      "text/plain": [
       "reset! (generic function with 1 method)"
      ]
     },
     "execution_count": 16,
     "metadata": {},
     "output_type": "execute_result"
    }
   ],
   "source": [
    "function reset!(h::Hierarchy)\n",
    "    for enc in h.encoders\n",
    "        for input in enc.inputs\n",
    "            input .= 0.0 \n",
    "        end\n",
    "        enc.outputs .= 0.0\n",
    "    end\n",
    "end"
   ]
  },
  {
   "cell_type": "code",
   "execution_count": 17,
   "metadata": {},
   "outputs": [],
   "source": [
    "Random.seed!(89123)\n",
    "start_ins = [rand(AW, length(input)) for input in h.encoders[1].inputs]\n",
    "reset!(h)"
   ]
  },
  {
   "cell_type": "code",
   "execution_count": 18,
   "metadata": {},
   "outputs": [
    {
     "name": "stdout",
     "output_type": "stream",
     "text": [
      "1Float32[2.7341948, 3.7357752, 3.9471684, 5.5391846, 4.7489758, 5.7991548, 6.1687202, 5.486372, 5.2629476, 6.1053886, 6.8938465, 7.705325, 3.644525, 3.155771, 3.2103758, 5.9293637, 5.388917, 6.1502347, 8.454125, 7.864378, 9.3291235, 6.9130926, 8.9074745, 8.517097, 7.5743847, 6.847526, 7.9313703, 6.2211356, 6.4321346, 6.701304, 5.9351974, 4.389, 6.8345246, 7.775779, 7.205558, 8.822968, 8.870237, 7.145187, 7.471397, 8.377363, 9.385347, 8.75828, 5.9227076, 4.884611, 4.198777, 3.570382, 3.2359755, 5.473711, 6.12904, 6.3310866, 4.4572926, 4.8412547, 5.449081, 5.5652947, 4.685097, 5.126682, 4.103604, 3.4805522, 2.9772797, 3.014519, 3.2823505, 3.999083, 3.5933135, 4.229941, 5.3103304, 7.88375, 5.1132307, 5.678768, 5.725518, 4.8154416, 5.0579963, 4.762769, 3.0144837, 2.670958, 2.2895691]\n",
      "2Float32[5.023918, 5.3874598, 4.8634744, 8.309584, 7.992849, 8.434514, 9.472625, 8.4973755, 8.118412, 7.7828946, 9.49241, 10.899217, 5.970661, 5.4828725, 5.812313, 9.21267, 8.155136, 8.372528, 12.946195, 11.918875, 13.747735, 11.087616, 12.350787, 11.884284, 10.658274, 8.707049, 10.936776, 7.878728, 8.88441, 9.653584, 8.798315, 5.993337, 8.969497, 12.050039, 10.838852, 12.706737, 13.190308, 10.447759, 11.0585, 10.1111765, 11.6518345, 10.199746, 8.616573, 6.2358675, 6.995291, 6.1342907, 6.505992, 7.740381, 8.8557415, 9.721276, 7.1094294, 7.911571, 9.0439, 8.967239, 7.4888926, 6.435882, 6.039801, 4.8586273, 5.141792, 5.035845, 4.12769, 5.796415, 5.611208, 7.4104695, 8.121692, 10.325972, 8.576818, 9.088839, 8.066331, 6.4401407, 6.7024813, 5.76783, 4.4049115, 3.4417207, 3.3127773]\n",
      "level 1:\n",
      "inputs:\n",
      "Array{Float32,1}[[0.25893736, 0.2844324, 0.92239416, 0.26389265, 0.33560538, 0.49060988, 0.8079244, 0.12984455, 0.8652488, 0.95001614, 0.621068, 0.9716182, 0.5091152, 0.7447128, 0.4803753, 0.72570026, 0.8227713, 0.87141025, 0.8618754, 0.25915158, 0.39585674, 0.9909276, 0.3287238, 0.43629408, 0.92749083, 0.9064573, 0.9024943, 0.76490796, 0.2148763, 0.55654407, 0.616789, 0.75524926, 0.6494504, 0.4941702, 0.72851944, 0.14849591], [0.845561, 0.58713174, 0.5977931, 0.46653652, 0.5808425, 0.22551668, 0.27339828, 0.095137715, 0.5714781, 0.675923, 0.611773, 0.69057226, 0.9721159, 0.03249967, 0.09723556, 0.44234335, 0.04514885, 0.116764545, 0.26602304, 0.5734768, 0.20336747, 0.31217277, 0.19145668, 0.8466486, 0.18036926, 0.8028052, 0.75287294, 0.50822353, 0.081211925, 0.42326415]]\n",
      "outputs:\n",
      "Float32[5.023918, 5.3874598, 4.8634744, 8.309584, 7.992849, 8.434514, 9.472625, 8.4973755, 8.118412, 7.7828946, 9.49241, 10.899217, 5.970661, 5.4828725, 5.812313, 9.21267, 8.155136, 8.372528, 12.946195, 11.918875, 13.747735, 11.087616, 12.350787, 11.884284, 10.658274, 8.707049, 10.936776, 7.878728, 8.88441, 9.653584, 8.798315, 5.993337, 8.969497, 12.050039, 10.838852, 12.706737, 13.190308, 10.447759, 11.0585, 10.1111765, 11.6518345, 10.199746, 8.616573, 6.2358675, 6.995291, 6.1342907, 6.505992, 7.740381, 8.8557415, 9.721276, 7.1094294, 7.911571, 9.0439, 8.967239, 7.4888926, 6.435882, 6.039801, 4.8586273, 5.141792, 5.035845, 4.12769, 5.796415, 5.611208, 7.4104695, 8.121692, 10.325972, 8.576818, 9.088839, 8.066331, 6.4401407, 6.7024813, 5.76783, 4.4049115, 3.4417207, 3.3127773]\n",
      "1Float32[164.89418, 115.38964, 162.71461, 186.26424, 166.84251, 177.60037, 114.49114, 125.996765, 182.11324, 192.32323, 225.58194, 209.27481, 233.99059, 222.6034, 168.03256, 144.71738, 173.30037, 162.8426, 208.3167, 258.10107, 195.78569, 221.41049, 139.60031, 149.92067, 142.43855, 143.36353, 151.60709, 151.16005, 146.78499, 159.67542, 118.85597, 92.07164]\n",
      "2Float32[164.89418, 115.38964, 162.71461, 186.26424, 166.84251, 177.60037, 114.49114, 125.996765, 182.11324, 192.32323, 225.58194, 209.27481, 233.99059, 222.6034, 168.03256, 144.71738, 173.30037, 162.8426, 208.3167, 258.10107, 195.78569, 221.41049, 139.60031, 149.92067, 142.43855, 143.36353, 151.60709, 151.16005, 146.78499, 159.67542, 118.85597, 92.07164]\n",
      "level 2:\n",
      "inputs:\n",
      "Array{Float32,1}[[5.023918, 5.3874598, 4.8634744, 8.309584, 7.992849, 8.434514, 9.472625, 8.4973755, 8.118412, 7.7828946, 9.49241, 10.899217, 5.970661, 5.4828725, 5.812313, 9.21267, 8.155136, 8.372528, 12.946195, 11.918875, 13.747735, 11.087616, 12.350787, 11.884284, 10.658274, 8.707049, 10.936776, 7.878728, 8.88441, 9.653584, 8.798315, 5.993337, 8.969497, 12.050039, 10.838852, 12.706737, 13.190308, 10.447759, 11.0585, 10.1111765, 11.6518345, 10.199746, 8.616573, 6.2358675, 6.995291, 6.1342907, 6.505992, 7.740381, 8.8557415, 9.721276, 7.1094294, 7.911571, 9.0439, 8.967239, 7.4888926, 6.435882, 6.039801, 4.8586273, 5.141792, 5.035845, 4.12769, 5.796415, 5.611208, 7.4104695, 8.121692, 10.325972, 8.576818, 9.088839, 8.066331, 6.4401407, 6.7024813, 5.76783, 4.4049115, 3.4417207, 3.3127773], [0.0, 0.0, 0.0, 0.0, 0.0, 0.0, 0.0, 0.0, 0.0, 0.0, 0.0, 0.0, 0.0, 0.0, 0.0, 0.0, 0.0, 0.0, 0.0, 0.0, 0.0, 0.0, 0.0, 0.0, 0.0, 0.0, 0.0, 0.0, 0.0, 0.0, 0.0, 0.0, 0.0, 0.0, 0.0, 0.0, 0.0, 0.0, 0.0, 0.0, 0.0, 0.0, 0.0, 0.0, 0.0, 0.0, 0.0, 0.0, 0.0, 0.0, 0.0, 0.0, 0.0, 0.0, 0.0, 0.0, 0.0, 0.0, 0.0, 0.0, 0.0, 0.0, 0.0, 0.0, 0.0, 0.0, 0.0, 0.0, 0.0, 0.0, 0.0, 0.0, 0.0, 0.0, 0.0]]\n",
      "outputs:\n",
      "Float32[164.89418, 115.38964, 162.71461, 186.26424, 166.84251, 177.60037, 114.49114, 125.996765, 182.11324, 192.32323, 225.58194, 209.27481, 233.99059, 222.6034, 168.03256, 144.71738, 173.30037, 162.8426, 208.3167, 258.10107, 195.78569, 221.41049, 139.60031, 149.92067, 142.43855, 143.36353, 151.60709, 151.16005, 146.78499, 159.67542, 118.85597, 92.07164]\n",
      "1Float32[628.0311, 1125.0378, 1042.0151, 1073.0894, 1645.9191, 820.4836, 610.6897, 1240.5907, 432.57755]\n",
      "2Float32[628.0311, 1125.0378, 1042.0151, 1073.0894, 1645.9191, 820.4836, 610.6897, 1240.5907, 432.57755]\n",
      "level 3:\n",
      "inputs:\n",
      "Array{Float32,1}[[164.89418, 115.38964, 162.71461, 186.26424, 166.84251, 177.60037, 114.49114, 125.996765, 182.11324, 192.32323, 225.58194, 209.27481, 233.99059, 222.6034, 168.03256, 144.71738, 173.30037, 162.8426, 208.3167, 258.10107, 195.78569, 221.41049, 139.60031, 149.92067, 142.43855, 143.36353, 151.60709, 151.16005, 146.78499, 159.67542, 118.85597, 92.07164], [0.0, 0.0, 0.0, 0.0, 0.0, 0.0, 0.0, 0.0, 0.0, 0.0, 0.0, 0.0, 0.0, 0.0, 0.0, 0.0, 0.0, 0.0, 0.0, 0.0, 0.0, 0.0, 0.0, 0.0, 0.0, 0.0, 0.0, 0.0, 0.0, 0.0, 0.0, 0.0]]\n",
      "outputs:\n",
      "Float32[628.0311, 1125.0378, 1042.0151, 1073.0894, 1645.9191, 820.4836, 610.6897, 1240.5907, 432.57755]\n"
     ]
    }
   ],
   "source": [
    "forward!(h, start_ins)"
   ]
  },
  {
   "cell_type": "code",
   "execution_count": 19,
   "metadata": {},
   "outputs": [
    {
     "name": "stdout",
     "output_type": "stream",
     "text": [
      "Float32[628.0311, 1125.0378, 1042.0151, 1073.0894, 1645.9191, 820.4836, 610.6897, 1240.5907, 432.57755]\n"
     ]
    }
   ],
   "source": [
    "println(h.encoders[end].outputs)"
   ]
  },
  {
   "cell_type": "code",
   "execution_count": 20,
   "metadata": {},
   "outputs": [
    {
     "name": "stdout",
     "output_type": "stream",
     "text": [
      "1Float32[329.78833, 230.77928, 325.4293, 372.52838, 333.68506, 355.2007, 228.98228, 251.99353, 364.22644, 384.64645, 451.16382, 418.54965, 467.9811, 445.20676, 336.06516, 289.43478, 346.6008, 325.68512, 416.63342, 516.20215, 391.5713, 442.821, 279.20056, 299.8414, 284.87698, 286.72708, 303.21405, 302.3201, 293.57004, 319.35092, 237.71196, 184.1433]\n",
      "2Float32[329.78833, 230.77928, 325.4293, 372.52838, 333.68506, 355.2007, 228.98228, 251.99353, 364.22644, 384.64645, 451.16382, 418.54965, 467.9811, 445.20676, 336.06516, 289.43478, 346.6008, 325.68512, 416.63342, 516.20215, 391.5713, 442.821, 279.20056, 299.8414, 284.87698, 286.72708, 303.21405, 302.3201, 293.57004, 319.35092, 237.71196, 184.1433]\n"
     ]
    },
    {
     "data": {
      "text/plain": [
       "32-element Array{Float32,1}:\n",
       " 329.78833\n",
       " 230.77928\n",
       " 325.4293\n",
       " 372.52838\n",
       " 333.68506\n",
       " 355.2007\n",
       " 228.98228\n",
       " 251.99353\n",
       " 364.22644\n",
       " 384.64645\n",
       " 451.16382\n",
       " 418.54965\n",
       " 467.9811\n",
       "   ⋮\n",
       " 391.5713\n",
       " 442.821\n",
       " 279.20056\n",
       " 299.8414\n",
       " 284.87698\n",
       " 286.72708\n",
       " 303.21405\n",
       " 302.3201\n",
       " 293.57004\n",
       " 319.35092\n",
       " 237.71196\n",
       " 184.1433"
      ]
     },
     "execution_count": 20,
     "metadata": {},
     "output_type": "execute_result"
    }
   ],
   "source": [
    "forward!(h.encoders[2])"
   ]
  },
  {
   "cell_type": "code",
   "execution_count": null,
   "metadata": {},
   "outputs": [],
   "source": []
  },
  {
   "cell_type": "code",
   "execution_count": 21,
   "metadata": {},
   "outputs": [
    {
     "data": {
      "text/plain": [
       "SparseFocalEncoder(Array{Float32,1}[[0.0, 0.0, 0.0, 0.0, 0.0, 0.0, 0.0, 0.0, 0.0, 0.0  …  0.0, 0.0, 0.0, 0.0, 0.0, 0.0, 0.0, 0.0, 0.0, 0.0], [0.0, 0.0, 0.0, 0.0, 0.0, 0.0, 0.0, 0.0, 0.0, 0.0  …  0.0, 0.0, 0.0, 0.0, 0.0, 0.0, 0.0, 0.0, 0.0, 0.0]], Float32[0.0, 0.0, 0.0, 0.0, 0.0, 0.0, 0.0, 0.0, 0.0, 0.0  …  0.0, 0.0, 0.0, 0.0, 0.0, 0.0, 0.0, 0.0, 0.0, 0.0], FocalMatrix[FocalMatrix(XIO3[3×4×3], XIO3[4×5×3], 1, UInt16[1 2; 1 3; 2 3; 2 3], UInt16[1 2; 1 3; … ; 2 4; 3 4], UInt32[1 37 … 145 199; 235 289 … 451 532; 586 622 … 730 784; 820 856 … 964 1018], Float32[0.9767926, 0.4211475, 0.8915801, 0.19209142, 0.3656292, 0.25811878, 0.16790241, 0.1177921, 0.43690702, 0.22150604  …  0.3735941, 0.88273233, 0.3112477, 0.7634302, 0.4221577, 0.3559206, 0.15888774, 0.76714975, 0.98783547, 0.16438827], 1054), FocalMatrix(XIO3[5×3×2], XIO3[4×5×3], 1, UInt16[1 2; 1 3; 3 5; 4 5], UInt16[1 2; 1 3; … ; 2 3; 2 3], UInt32[1 25 … 97 121; 145 181 … 289 325; 361 397 … 505 541; 577 601 … 673 697], Float32[0.5014266, 0.3640501, 0.91850513, 0.24830894, 0.038873345, 0.9489312, 0.36357915, 0.097161874, 0.4553352, 0.0845659  …  0.6497205, 0.3824879, 0.71725655, 0.09066833, 0.8569864, 0.40648428, 0.51066035, 0.5809281, 0.81482, 0.69679856], 721)])"
      ]
     },
     "execution_count": 21,
     "metadata": {},
     "output_type": "execute_result"
    }
   ],
   "source": [
    "import Random # hide\n",
    "Random.seed!(1729) # hide\n",
    "osize = XIO3(4, 5, 3)\n",
    "isizes = [XIO3(3, 4, 3), XIO3(5, 3, 2)]\n",
    "e = SparseFocalEncoder(isizes, osize, [1, 1])"
   ]
  },
  {
   "cell_type": "code",
   "execution_count": null,
   "metadata": {},
   "outputs": [],
   "source": []
  },
  {
   "cell_type": "code",
   "execution_count": null,
   "metadata": {},
   "outputs": [],
   "source": []
  },
  {
   "cell_type": "code",
   "execution_count": null,
   "metadata": {},
   "outputs": [],
   "source": []
  },
  {
   "cell_type": "code",
   "execution_count": 22,
   "metadata": {},
   "outputs": [
    {
     "data": {
      "text/plain": [
       "(Float32[0.9825994, 0.0, 0.0, 0.0, 0.0, 0.09322806, 0.11758536, 0.0, 0.0, 0.7573908  …  0.0, 0.1951818, 0.0, 0.0, 0.591828, 0.0, 0.0, 0.0, -0.09235107, 0.0], UInt16[1, 3, 1, 1, 3, 1, 2, 1, 3, 3, 3, 2, 2, 1, 1, 3, 1, 1, 1, 2])"
      ]
     },
     "execution_count": 22,
     "metadata": {},
     "output_type": "execute_result"
    }
   ],
   "source": [
    "x, tops = sparse(osize, rand_array(AW, osize))"
   ]
  },
  {
   "cell_type": "code",
   "execution_count": 23,
   "metadata": {},
   "outputs": [
    {
     "data": {
      "text/plain": [
       "decode! (generic function with 1 method)"
      ]
     },
     "execution_count": 23,
     "metadata": {},
     "output_type": "execute_result"
    }
   ],
   "source": [
    "function decode!(m::FocalMatrix, ins::Vector{AW}, outs::Vector{AW}) \n",
    "    idxW = 1\n",
    "    local diz = m.isize.z\n",
    "    local dix = 1; local diy = 1; local o = 0.0\n",
    "    osize = m.osize\n",
    "    isize = m.isize\n",
    "    ws = m.ws\n",
    "    xs, ys = m.xs, m.ys\n",
    "    local bz = isize.z\n",
    "    for ox::XIO in 1:osize.x\n",
    "        ax, bx = xs[ox, :]\n",
    "        dix = 1 + bx - ax\n",
    "        for oy::XIO in 1:osize.y\n",
    "            ay, by = ys[oy, :]\n",
    "            diy = 1 + by - ay\n",
    "            for oz::XIO in 1:osize.z\n",
    "                oPos = oz + osize.z * (oy - 1) + (osize.z * osize.y) * (ox - 1)\n",
    "                o = outs[oPos]\n",
    "                for ix::XIO in ax:bx, iy::XIO in ay:by\n",
    "                    iPos = isize.z * (iy - 1) + (isize.z * isize.y) * (ix - 1)\n",
    "                    for iz::XIO in 1:bz\n",
    "                        ins[iPos + iz] = ins[iPos + iz] + o * ws[idxW + iz]\n",
    "                    end\n",
    "                    idxW += diz\n",
    "                end\n",
    "            end\n",
    "        end\n",
    "    end\n",
    "    ins\n",
    "end"
   ]
  },
  {
   "cell_type": "code",
   "execution_count": 24,
   "metadata": {},
   "outputs": [
    {
     "data": {
      "text/plain": [
       "2-element Array{Int64,1}:\n",
       " 36\n",
       " 30"
      ]
     },
     "execution_count": 24,
     "metadata": {},
     "output_type": "execute_result"
    }
   ],
   "source": [
    "prediction = [zero_array(AW, isize) for isize in isizes]\n",
    "length.(prediction)"
   ]
  },
  {
   "cell_type": "code",
   "execution_count": 25,
   "metadata": {},
   "outputs": [
    {
     "data": {
      "text/plain": [
       "60-element Array{Float32,1}:\n",
       " -0.5040101\n",
       " -0.44363344\n",
       " -0.581382\n",
       " -0.47755456\n",
       "  0.7569803\n",
       " -0.95768476\n",
       "  0.19346286\n",
       "  0.5086846\n",
       " -0.58245766\n",
       "  0.114865154\n",
       "  0.8170378\n",
       "  0.3969726\n",
       "  0.7598583\n",
       "  ⋮\n",
       " -0.81163275\n",
       " -0.45565706\n",
       "  0.2914844\n",
       " -0.21604145\n",
       " -0.77984816\n",
       "  0.50165206\n",
       "  0.5998679\n",
       " -0.006974394\n",
       "  0.12582617\n",
       " -0.7443067\n",
       "  0.50543666\n",
       "  0.34178364"
      ]
     },
     "execution_count": 25,
     "metadata": {},
     "output_type": "execute_result"
    }
   ],
   "source": [
    "Random.seed!(1776)\n",
    "dense_outs = rand_array(AW, osize)"
   ]
  },
  {
   "cell_type": "code",
   "execution_count": 26,
   "metadata": {},
   "outputs": [
    {
     "data": {
      "text/plain": [
       "(Float32[0.0, -0.44363344, 0.0, 0.0, 0.7569803, 0.0, 0.0, 0.5086846, 0.0, 0.0  …  0.2914844, 0.0, 0.0, 0.50165206, 0.5998679, 0.0, 0.0, 0.0, 0.50543666, 0.0], UInt16[2, 2, 2, 2, 1, 1, 3, 1, 3, 1, 1, 1, 2, 2, 1, 1, 3, 3, 1, 2])"
      ]
     },
     "execution_count": 26,
     "metadata": {},
     "output_type": "execute_result"
    }
   ],
   "source": [
    "sparse_outs, tops = sparse(osize, dense_outs)"
   ]
  },
  {
   "cell_type": "code",
   "execution_count": 27,
   "metadata": {},
   "outputs": [
    {
     "data": {
      "text/plain": [
       "36-element Array{Float32,1}:\n",
       " 1.5002005\n",
       " 1.3328108\n",
       " 0.7865439\n",
       " 1.3904957\n",
       " 0.9960151\n",
       " 0.9816769\n",
       " 2.7919016\n",
       " 2.2018158\n",
       " 2.7635148\n",
       " 2.2775857\n",
       " 1.578128\n",
       " 2.420969\n",
       " 2.8091235\n",
       " ⋮\n",
       " 2.0054297\n",
       " 2.3129823\n",
       " 1.4821259\n",
       " 2.9570692\n",
       " 3.4465995\n",
       " 3.2989042\n",
       " 3.5922203\n",
       " 3.0865903\n",
       " 3.777996\n",
       " 1.4576781\n",
       " 2.0125113\n",
       " 2.2678413"
      ]
     },
     "execution_count": 27,
     "metadata": {},
     "output_type": "execute_result"
    }
   ],
   "source": [
    "decode!(e.weight_tensors[1], prediction[1], sparse_outs)"
   ]
  },
  {
   "cell_type": "code",
   "execution_count": 28,
   "metadata": {},
   "outputs": [
    {
     "data": {
      "text/plain": [
       "(Float32[1.5002005, 0.0, 0.0, 1.3904957, 0.0, 0.0, 2.7919016, 0.0, 0.0, 0.0  …  0.0, 0.0, 3.4465995, 0.0, 0.0, 0.0, 3.777996, 0.0, 0.0, 2.2678413], UInt16[1, 1, 1, 3, 1, 3, 3, 1, 2, 2, 3, 3])"
      ]
     },
     "execution_count": 28,
     "metadata": {},
     "output_type": "execute_result"
    }
   ],
   "source": [
    "sparse_pred, tops = sparse(isizes[1], prediction[1])"
   ]
  },
  {
   "cell_type": "code",
   "execution_count": 29,
   "metadata": {},
   "outputs": [
    {
     "data": {
      "text/plain": [
       "60-element Array{Float32,1}:\n",
       "  2.112439\n",
       "  5.1901646\n",
       "  4.0187054\n",
       "  9.694454\n",
       "  9.226432\n",
       "  7.463846\n",
       " 12.683958\n",
       " 12.4511175\n",
       " 11.755856\n",
       " 11.784513\n",
       " 16.878277\n",
       "  9.072924\n",
       "  6.4432597\n",
       "  ⋮\n",
       " 16.423084\n",
       "  7.9073987\n",
       " 12.055057\n",
       " 14.616652\n",
       " 11.608127\n",
       "  8.555617\n",
       " 19.157906\n",
       " 10.970013\n",
       " 14.31929\n",
       "  6.8720512\n",
       "  8.644271\n",
       "  6.9648275"
      ]
     },
     "execution_count": 29,
     "metadata": {},
     "output_type": "execute_result"
    }
   ],
   "source": [
    "pred = copy(sparse_pred)\n",
    "pred_forward = zero_array(AW, osize)\n",
    "forward!(e.weight_tensors[1], pred, pred_forward)"
   ]
  },
  {
   "cell_type": "code",
   "execution_count": 30,
   "metadata": {},
   "outputs": [
    {
     "data": {
      "text/plain": [
       "60-element Array{Float32,1}:\n",
       "  2.6164489\n",
       "  5.633798\n",
       "  4.600087\n",
       " 10.1720085\n",
       "  8.469452\n",
       "  8.421531\n",
       " 12.490495\n",
       " 11.942433\n",
       " 12.338313\n",
       " 11.669648\n",
       " 16.06124\n",
       "  8.675951\n",
       "  5.6834016\n",
       "  ⋮\n",
       " 17.234716\n",
       "  8.363056\n",
       " 11.763572\n",
       " 14.832693\n",
       " 12.387975\n",
       "  8.053966\n",
       " 18.558037\n",
       " 10.976987\n",
       " 14.193464\n",
       "  7.616358\n",
       "  8.138834\n",
       "  6.623044"
      ]
     },
     "execution_count": 30,
     "metadata": {},
     "output_type": "execute_result"
    }
   ],
   "source": [
    "pred_forward - dense_outs"
   ]
  },
  {
   "cell_type": "code",
   "execution_count": 31,
   "metadata": {},
   "outputs": [
    {
     "data": {
      "text/plain": [
       "FocalMatrix(XIO3[8×10×3], XIO3[5×4×3], 3, UInt16[1 4; 1 6; … ; 3 8; 4 8], UInt16[1 4; 1 7; 3 9; 6 10], UInt32[1 145 397 649; 829 1045 1423 1801; … ; 3520 3736 4114 4492; 4762 4942 5257 5572], Float32[0.59084463, 0.76679707, 0.5662374, 0.46008533, 0.7940257, 0.8541466, 0.20058604, 0.29861426, 0.24683718, 0.5796722  …  0.708213, 0.73846525, 0.9270241, 0.4111475, 0.48356026, 0.84817374, 0.11161669, 0.7702865, 0.6142066, 0.3792697], 5797)"
      ]
     },
     "execution_count": 31,
     "metadata": {},
     "output_type": "execute_result"
    }
   ],
   "source": [
    "Random.seed!(1234)\n",
    "\n",
    "is = XIO3(8,10,3)\n",
    "os = XIO3(5,4,3)\n",
    "r = 3\n",
    "f = FocalMatrix(is, os, r)"
   ]
  },
  {
   "cell_type": "code",
   "execution_count": 32,
   "metadata": {},
   "outputs": [
    {
     "data": {
      "text/plain": [
       "forward! (generic function with 6 methods)"
      ]
     },
     "execution_count": 32,
     "metadata": {},
     "output_type": "execute_result"
    }
   ],
   "source": [
    "import OgmaJL.forward!\n",
    "function forward!(m::FocalMatrix, ins::Array{AW}, outs::Array{AW})\n",
    "    idxW = 1\n",
    "    local diz = m.isize.z\n",
    "    local dix = 1; local diy = 1; local o = 0.0\n",
    "    osize = m.osize\n",
    "    isize = m.isize\n",
    "    ws = m.ws\n",
    "    xs, ys = m.xs, m.ys\n",
    "    local bz = isize.z\n",
    "    for ox::XIO in 1:osize.x\n",
    "        ax, bx = xs[ox, :]\n",
    "        dix = 1 + bx - ax\n",
    "        for oy::XIO in 1:osize.y\n",
    "            ay, by = ys[oy, :]\n",
    "            diy = 1 + by - ay\n",
    "            for oz::XIO in 1:osize.z\n",
    "                o = 0.0\n",
    "                for ix::XIO in ax:bx, iy::XIO in ay:by\n",
    "                    iPos = isize.z * (iy - 1) + (isize.z * isize.y) * (ix - 1)\n",
    "                    for iz::XIO in 1:bz\n",
    "                        o = o + ins[iPos + iz] * ws[idxW + iz]\n",
    "                    end\n",
    "                    idxW += diz\n",
    "                end\n",
    "                oPos = oz + osize.z * (oy - 1) + (osize.z * osize.y) * (ox - 1)\n",
    "                outs[oPos] = o\n",
    "            end\n",
    "        end\n",
    "    end\n",
    "    outs\n",
    "end\n"
   ]
  },
  {
   "cell_type": "code",
   "execution_count": 33,
   "metadata": {},
   "outputs": [
    {
     "data": {
      "text/plain": [
       "true"
      ]
     },
     "execution_count": 33,
     "metadata": {},
     "output_type": "execute_result"
    }
   ],
   "source": [
    "f.xs == [1 4; 1 6; 1 7; 3 8; 4 8] && \n",
    "f.ys == [1 4; 1 7; 3 9; 6 10] &&\n",
    "f.ws[1:10] ≈ [0.59084463, 0.76679707, 0.5662374, 0.46008533, 0.7940257,\n",
    "    0.8541466, 0.20058604, 0.29861426, 0.24683718, 0.5796722]"
   ]
  },
  {
   "cell_type": "code",
   "execution_count": 34,
   "metadata": {},
   "outputs": [
    {
     "data": {
      "text/plain": [
       "60-element Array{Float32,1}:\n",
       "  2.369688\n",
       "  1.9627601\n",
       "  1.6924155\n",
       "  5.680007\n",
       "  5.5550647\n",
       "  4.608256\n",
       "  5.510908\n",
       "  5.391149\n",
       "  2.8863041\n",
       "  1.8599162\n",
       "  2.4497209\n",
       "  1.8094441\n",
       " -0.5646462\n",
       "  ⋮\n",
       " -0.98360896\n",
       " -2.557888\n",
       " -0.024428785\n",
       "  0.91814095\n",
       " -2.7633836\n",
       " -0.1305455\n",
       "  0.9920449\n",
       " -6.7878976\n",
       "  0.48425412\n",
       " -3.4415362\n",
       " -0.012607932\n",
       " -1.3955071"
      ]
     },
     "execution_count": 34,
     "metadata": {},
     "output_type": "execute_result"
    }
   ],
   "source": [
    "Random.seed!(56789)\n",
    "ins = AW.(rand([-1,1], is.x * is.y * is.z) .* rand(is.x * is.y * is.z))\n",
    "outs = zeros(AW, os.x * os.y * os.z)\n",
    "forward!(f, ins, outs)"
   ]
  },
  {
   "cell_type": "code",
   "execution_count": 35,
   "metadata": {},
   "outputs": [
    {
     "name": "stdout",
     "output_type": "stream",
     "text": [
      "Float32[2.369688, 1.9627601, 1.6924155, 5.680007, 5.5550647, 4.608256, 5.510908, 5.391149, 2.8863041, 1.8599162, 2.4497209, 1.8094441, -0.5646462, 2.496545, 2.7496731, 4.4924946, 1.7888093, 4.1376715, 3.7172203, 1.2116854, 0.7597302, -2.3244824, -4.2741694, -1.955646, 1.8763541, -0.37737405, 3.562166, -1.4183358, 1.867738, 2.8685708, -1.6369025, -0.32065183, -0.61710286, -1.6649387, -2.9539576, -1.0418377, -0.27939826, 0.30634487, -0.7195828, -2.1637728, -2.7929268, -0.86904335, 3.0336506, 1.4393296, -2.7035058, 0.7345776, 1.9890188, -1.8297501, -0.98360896, -2.557888, -0.024428785, 0.91814095, -2.7633836, -0.1305455, 0.9920449, -6.7878976, 0.48425412, -3.4415362, -0.012607932, -1.3955071]\n"
     ]
    }
   ],
   "source": [
    "println(outs)"
   ]
  },
  {
   "cell_type": "code",
   "execution_count": 36,
   "metadata": {},
   "outputs": [
    {
     "data": {
      "text/plain": [
       "true"
      ]
     },
     "execution_count": 36,
     "metadata": {},
     "output_type": "execute_result"
    }
   ],
   "source": [
    "outs ≈ [2.3696885, 1.9627601, 1.6924154, 5.6800075, 5.5550666, 4.608255, 5.5109096, 5.3911486, 2.8863041, 1.8599161, 2.449721, 1.8094438, -0.56464577, 2.4965448, 2.7496734, 4.4924912, 1.7888112, 4.13767, 3.7172208, 1.2116852, 0.7597295, -2.3244824, -4.274169, -1.9556457, 1.8763535, -0.3773745, 3.562166, -1.4183352, 1.8677393, 2.8685718, -1.6369021, -0.3206531, -0.6171037, -1.6649392, -2.9539573, -1.0418377, -0.2793983, 0.30634505, -0.7195828, -2.1637726, -2.792926, -0.8690437, 3.03365, 1.4393299, -2.7035058, 0.73457795, 1.9890194, -1.8297504, -0.9836089, -2.5578885, -0.024428671, 0.9181401, -2.7633839, -0.13054581, 0.9920448, -6.787898, 0.484254, -3.441536, -0.012607433, -1.3955071]\n",
    "    "
   ]
  },
  {
   "cell_type": "code",
   "execution_count": 37,
   "metadata": {},
   "outputs": [
    {
     "data": {
      "text/plain": [
       "(Float32[2.369688, 0.0, 0.0, 5.680007, 0.0, 0.0, 5.510908, 0.0, 0.0, 0.0  …  -0.024428785, 0.91814095, 0.0, 0.0, 0.9920449, 0.0, 0.0, 0.0, -0.012607932, 0.0], UInt16[1, 1, 1, 2, 3, 1, 1, 3, 3, 3, 2, 3, 2, 3, 1, 2, 3, 1, 1, 2])"
      ]
     },
     "execution_count": 37,
     "metadata": {},
     "output_type": "execute_result"
    }
   ],
   "source": [
    "sparseouts, tops = sparse(f, outs)"
   ]
  },
  {
   "cell_type": "code",
   "execution_count": 38,
   "metadata": {},
   "outputs": [
    {
     "name": "stdout",
     "output_type": "stream",
     "text": [
      "Float32[2.369688, 0.0, 0.0, 5.680007, 0.0, 0.0, 5.510908, 0.0, 0.0, 0.0, 2.4497209, 0.0, 0.0, 0.0, 2.7496731, 4.4924946, 0.0, 0.0, 3.7172203, 0.0, 0.0, 0.0, 0.0, -1.955646, 0.0, 0.0, 3.562166, 0.0, 0.0, 2.8685708, 0.0, -0.32065183, 0.0, 0.0, 0.0, -1.0418377, 0.0, 0.30634487, 0.0, 0.0, 0.0, -0.86904335, 3.0336506, 0.0, 0.0, 0.0, 1.9890188, 0.0, 0.0, 0.0, -0.024428785, 0.91814095, 0.0, 0.0, 0.9920449, 0.0, 0.0, 0.0, -0.012607932, 0.0]\n",
      "UInt16[1, 1, 1, 2, 3, 1, 1, 3, 3, 3, 2, 3, 2, 3, 1, 2, 3, 1, 1, 2]\n"
     ]
    }
   ],
   "source": [
    "println(sparseouts)\n",
    "println(tops)"
   ]
  },
  {
   "cell_type": "code",
   "execution_count": 39,
   "metadata": {},
   "outputs": [
    {
     "name": "stdout",
     "output_type": "stream",
     "text": [
      "1Float32[0.30973428, 0.5089234, -0.2817986, -0.8455551, -1.2917488, -0.14803626, 0.5260522, -0.45357493, 0.14881156, -0.7219375, -1.1244273, -0.51630723, -0.70497763, -0.7184298, -0.4166844, -0.004550904, -1.1152643, -1.0538586, -1.0178995, -1.9452542, -1.925517, -0.2472769, -1.0106049, -0.40791374, -1.450501, -1.266211, 0.72933006, -0.22153974, -0.87707627, -1.8283428, 0.43614906, 0.4975979, 0.4317258, -1.170793, -1.424866, -0.756474, 0.1219134, -1.4473423, -0.7918875, -1.098767, -0.08688003, -1.2527707, -0.91790813, -1.5168632, -0.20279375, -0.66519207, -0.39083898, 0.9330815, -0.61802274, 0.20777959, -1.195794, -0.54686576, 0.524223, -0.29333836, -1.3987383, -1.1674423, -1.5050104, -0.3903559, -0.6258691, -0.20152543]\n",
      "2Float32[-0.17616624, 0.19611296, -0.01586762, 0.52496195, -1.4770164, -0.23483497, 0.08747473, -0.40441868, 1.3073246, -1.1927086, -1.4557223, -0.012100697, 0.44500488, -1.5216341, -0.3198055, 0.8358241, -1.8722794, 0.38112888, 0.7258484, -2.8219247, -0.97797686, -0.26038912, -0.6596564, -0.09790245, -2.9023488, -2.7865653, 0.33717537, 0.68588126, -2.0352392, -4.1352415, 1.5837169, 1.217061, 1.2314525, -2.0370488, -2.9956234, -0.4740031, -0.9301128, -0.69790065, -1.1098443, -2.004672, -0.988083, -1.4327043, -2.0561285, -2.701246, -1.883915, -0.92355955, -0.06510103, 1.3771538, -0.9082285, 0.010027856, -1.8122463, -1.4337664, 0.22968581, -0.33851877, -1.0805783, -1.5254555, -1.1883162, -0.65380657, -0.882862, -0.31242907]\n"
     ]
    },
    {
     "data": {
      "text/plain": [
       "60-element Array{Float32,1}:\n",
       " -0.17616624\n",
       "  0.19611296\n",
       " -0.01586762\n",
       "  0.52496195\n",
       " -1.4770164\n",
       " -0.23483497\n",
       "  0.08747473\n",
       " -0.40441868\n",
       "  1.3073246\n",
       " -1.1927086\n",
       " -1.4557223\n",
       " -0.012100697\n",
       "  0.44500488\n",
       "  ⋮\n",
       " -0.9082285\n",
       "  0.010027856\n",
       " -1.8122463\n",
       " -1.4337664\n",
       "  0.22968581\n",
       " -0.33851877\n",
       " -1.0805783\n",
       " -1.5254555\n",
       " -1.1883162\n",
       " -0.65380657\n",
       " -0.882862\n",
       " -0.31242907"
      ]
     },
     "execution_count": 39,
     "metadata": {},
     "output_type": "execute_result"
    }
   ],
   "source": [
    "Random.seed!(34567)\n",
    "osize = XIO3(4, 5, 3)\n",
    "isizes = [XIO3(3, 4, 3), XIO3(5, 3, 2)]\n",
    "e = OgmaJL.SparseFocalEncoder(isizes, osize, [1, 1])\n",
    "\n",
    "Random.seed!(89123)\n",
    "outs = zero_array(AW, osize)\n",
    "# outs = -1 .+ (2 .* rand(length(outs)))\n",
    "# ins = [(-1 .+ AW.(2 .* rand(isize.x * isize.y * isize.z))) for isize in isizes]\n",
    "ins = [rand_array(AW, isize) for isize in isizes]\n",
    "e.inputs .= ins\n",
    "e.outputs .= outs\n",
    "forward!(e)"
   ]
  },
  {
   "cell_type": "code",
   "execution_count": 40,
   "metadata": {},
   "outputs": [
    {
     "name": "stdout",
     "output_type": "stream",
     "text": [
      "Float32[-0.17616624, 0.19611296, -0.01586762, 0.52496195, -1.4770164, -0.23483497, 0.08747473, -0.40441868, 1.3073246, -1.1927086, -1.4557223, -0.012100697, 0.44500488, -1.5216341, -0.3198055, 0.8358241, -1.8722794, 0.38112888, 0.7258484, -2.8219247, -0.97797686, -0.26038912, -0.6596564, -0.09790245, -2.9023488, -2.7865653, 0.33717537, 0.68588126, -2.0352392, -4.1352415, 1.5837169, 1.217061, 1.2314525, -2.0370488, -2.9956234, -0.4740031, -0.9301128, -0.69790065, -1.1098443, -2.004672, -0.988083, -1.4327043, -2.0561285, -2.701246, -1.883915, -0.92355955, -0.06510103, 1.3771538, -0.9082285, 0.010027856, -1.8122463, -1.4337664, 0.22968581, -0.33851877, -1.0805783, -1.5254555, -1.1883162, -0.65380657, -0.882862, -0.31242907]\n"
     ]
    }
   ],
   "source": [
    "println(e.outputs)"
   ]
  },
  {
   "cell_type": "code",
   "execution_count": 41,
   "metadata": {},
   "outputs": [
    {
     "data": {
      "text/plain": [
       "(Float32[0.0, 0.19611296, 0.0, 0.52496195, 0.0, 0.0, 0.0, 0.0, 1.3073246, 0.0  …  0.0, 0.0, 0.22968581, 0.0, -1.0805783, 0.0, 0.0, 0.0, 0.0, -0.31242907], UInt16[2, 1, 3, 3, 1, 1, 1, 3, 3, 1, 1, 3, 2, 2, 3, 3, 2, 2, 1, 3])"
      ]
     },
     "execution_count": 41,
     "metadata": {},
     "output_type": "execute_result"
    }
   ],
   "source": [
    "sparseouts, tops = sparse(osize, e.outputs)"
   ]
  },
  {
   "cell_type": "code",
   "execution_count": 42,
   "metadata": {},
   "outputs": [
    {
     "name": "stdout",
     "output_type": "stream",
     "text": [
      "Float32[0.0, 0.19611296, 0.0, 0.52496195, 0.0, 0.0, 0.0, 0.0, 1.3073246, 0.0, 0.0, -0.012100697, 0.44500488, 0.0, 0.0, 0.8358241, 0.0, 0.0, 0.7258484, 0.0, 0.0, 0.0, 0.0, -0.09790245, 0.0, 0.0, 0.33717537, 0.68588126, 0.0, 0.0, 1.5837169, 0.0, 0.0, 0.0, 0.0, -0.4740031, 0.0, -0.69790065, 0.0, 0.0, -0.988083, 0.0, 0.0, 0.0, -1.883915, 0.0, 0.0, 1.3771538, 0.0, 0.010027856, 0.0, 0.0, 0.22968581, 0.0, -1.0805783, 0.0, 0.0, 0.0, 0.0, -0.31242907]\n",
      "UInt16[2, 1, 3, 3, 1, 1, 1, 3, 3, 1, 1, 3, 2, 2, 3, 3, 2, 2, 1, 3]\n"
     ]
    }
   ],
   "source": [
    "println(sparseouts)\n",
    "println(tops)"
   ]
  },
  {
   "cell_type": "code",
   "execution_count": 43,
   "metadata": {},
   "outputs": [
    {
     "name": "stdout",
     "output_type": "stream",
     "text": [
      "1Float32[0.30973428, 0.5089234, -0.2817986, -0.8455551, -1.2917488, -0.14803626, 0.5260522, -0.45357493, 0.14881156, -0.7219375, -1.1244273, -0.51630723, -0.70497763, -0.7184298, -0.4166844, -0.004550904, -1.1152643, -1.0538586, -1.0178995, -1.9452542, -1.925517, -0.2472769, -1.0106049, -0.40791374, -1.450501, -1.266211, 0.72933006, -0.22153974, -0.87707627, -1.8283428, 0.43614906, 0.4975979, 0.4317258, -1.170793, -1.424866, -0.756474, 0.1219134, -1.4473423, -0.7918875, -1.098767, -0.08688003, -1.2527707, -0.91790813, -1.5168632, -0.20279375, -0.66519207, -0.39083898, 0.9330815, -0.61802274, 0.20777959, -1.195794, -0.54686576, 0.524223, -0.29333836, -1.3987383, -1.1674423, -1.5050104, -0.3903559, -0.6258691, -0.20152543]\n",
      "2Float32[-0.17616624, 0.19611296, -0.01586762, 0.52496195, -1.4770164, -0.23483497, 0.08747473, -0.40441868, 1.3073246, -1.1927086, -1.4557223, -0.012100697, 0.44500488, -1.5216341, -0.3198055, 0.8358241, -1.8722794, 0.38112888, 0.7258484, -2.8219247, -0.97797686, -0.26038912, -0.6596564, -0.09790245, -2.9023488, -2.7865653, 0.33717537, 0.68588126, -2.0352392, -4.1352415, 1.5837169, 1.217061, 1.2314525, -2.0370488, -2.9956234, -0.4740031, -0.9301128, -0.69790065, -1.1098443, -2.004672, -0.988083, -1.4327043, -2.0561285, -2.701246, -1.883915, -0.92355955, -0.06510103, 1.3771538, -0.9082285, 0.010027856, -1.8122463, -1.4337664, 0.22968581, -0.33851877, -1.0805783, -1.5254555, -1.1883162, -0.65380657, -0.882862, -0.31242907]\n",
      "Float32[-0.17616624, 0.19611296, -0.01586762, 0.52496195, -1.4770164, -0.23483497, 0.08747473, -0.40441868, 1.3073246, -1.1927086, -1.4557223, -0.012100697, 0.44500488, -1.5216341, -0.3198055, 0.8358241, -1.8722794, 0.38112888, 0.7258484, -2.8219247, -0.97797686, -0.26038912, -0.6596564, -0.09790245, -2.9023488, -2.7865653, 0.33717537, 0.68588126, -2.0352392, -4.1352415, 1.5837169, 1.217061, 1.2314525, -2.0370488, -2.9956234, -0.4740031, -0.9301128, -0.69790065, -1.1098443, -2.004672, -0.988083, -1.4327043, -2.0561285, -2.701246, -1.883915, -0.92355955, -0.06510103, 1.3771538, -0.9082285, 0.010027856, -1.8122463, -1.4337664, 0.22968581, -0.33851877, -1.0805783, -1.5254555, -1.1883162, -0.65380657, -0.882862, -0.31242907]\n"
     ]
    }
   ],
   "source": [
    "Random.seed!(34567)\n",
    "osize = XIO3(4, 5, 3)\n",
    "isizes = [XIO3(3, 4, 3), XIO3(5, 3, 2)]\n",
    "e = OgmaJL.SparseFocalEncoder(isizes, osize, [1, 1])\n",
    "\n",
    "Random.seed!(89123)\n",
    "outs = zero_array(AW, osize)\n",
    "# outs = -1 .+ (2 .* rand(length(outs)))\n",
    "# ins = [(-1 .+ AW.(2 .* rand(isize.x * isize.y * isize.z))) for isize in isizes]\n",
    "ins = [rand_array(AW, isize) for isize in isizes]\n",
    "e.inputs .= ins\n",
    "e.outputs .= outs\n",
    "forward!(e)\n",
    "println(e.outputs)"
   ]
  },
  {
   "cell_type": "code",
   "execution_count": 44,
   "metadata": {},
   "outputs": [
    {
     "name": "stdout",
     "output_type": "stream",
     "text": [
      "Float32[0.0, 0.19611296, 0.0, 0.52496195, 0.0, 0.0, 0.0, 0.0, 1.3073246, 0.0, 0.0, -0.012100697, 0.44500488, 0.0, 0.0, 0.8358241, 0.0, 0.0, 0.7258484, 0.0, 0.0, 0.0, 0.0, -0.09790245, 0.0, 0.0, 0.33717537, 0.68588126, 0.0, 0.0, 1.5837169, 0.0, 0.0, 0.0, 0.0, -0.4740031, 0.0, -0.69790065, 0.0, 0.0, -0.988083, 0.0, 0.0, 0.0, -1.883915, 0.0, 0.0, 1.3771538, 0.0, 0.010027856, 0.0, 0.0, 0.22968581, 0.0, -1.0805783, 0.0, 0.0, 0.0, 0.0, -0.31242907]\n",
      "UInt16[2, 1, 3, 3, 1, 1, 1, 3, 3, 1, 1, 3, 2, 2, 3, 3, 2, 2, 1, 3]\n"
     ]
    }
   ],
   "source": [
    "sparseouts, tops = sparse(osize, e.outputs)\n",
    "println(sparseouts)\n",
    "println(tops)"
   ]
  },
  {
   "cell_type": "code",
   "execution_count": null,
   "metadata": {},
   "outputs": [],
   "source": []
  }
 ],
 "metadata": {
  "kernelspec": {
   "display_name": "JuliaPro_v1.4.2-1 1.4.2",
   "language": "julia",
   "name": "juliapro_v1.4.2-1-1.4"
  },
  "language_info": {
   "file_extension": ".jl",
   "mimetype": "application/julia",
   "name": "julia",
   "version": "1.4.2"
  }
 },
 "nbformat": 4,
 "nbformat_minor": 4
}
