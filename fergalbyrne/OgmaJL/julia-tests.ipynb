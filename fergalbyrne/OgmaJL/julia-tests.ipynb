{
 "cells": [
  {
   "cell_type": "markdown",
   "metadata": {},
   "source": [
    "# OgmaJL - Julia Implementations of the Feynman Machine\n",
    "\n",
    "## FocalMatrix - locally focussed weight matrix\n",
    "The `FocalMatrix` is a weight matrix which connects an input tensor `ins` of size `isize` (`isize.x×isize.y×isize.z`) to an output tensor `outs` of size `osize` (`osize.x×osize.y×osize.z`), where each output receives input from units in an `x-y` window within `radius` units of the input unit \"below\" the `x-y` of the output unit."
   ]
  },
  {
   "cell_type": "markdown",
   "metadata": {},
   "source": [
    "Start with some imports to control RNG and display some types."
   ]
  },
  {
   "cell_type": "code",
   "execution_count": 1,
   "metadata": {},
   "outputs": [],
   "source": [
    "import Random\n",
    "import Base.show"
   ]
  },
  {
   "cell_type": "markdown",
   "metadata": {},
   "source": [
    "## Types"
   ]
  },
  {
   "cell_type": "code",
   "execution_count": 2,
   "metadata": {},
   "outputs": [
    {
     "data": {
      "text/plain": [
       "UInt16"
      ]
     },
     "execution_count": 2,
     "metadata": {},
     "output_type": "execute_result"
    }
   ],
   "source": [
    "const AW = Float32\n",
    "const XW = UInt32\n",
    "const XIO = UInt16"
   ]
  },
  {
   "cell_type": "code",
   "execution_count": 3,
   "metadata": {},
   "outputs": [],
   "source": [
    "struct XIO3 x::XIO; y::XIO; z::XIO end"
   ]
  },
  {
   "cell_type": "code",
   "execution_count": 4,
   "metadata": {},
   "outputs": [],
   "source": [
    "mutable struct XIO3M x::XIO; y::XIO; z::XIO end"
   ]
  },
  {
   "cell_type": "code",
   "execution_count": 5,
   "metadata": {},
   "outputs": [
    {
     "data": {
      "text/plain": [
       "show (generic function with 237 methods)"
      ]
     },
     "execution_count": 5,
     "metadata": {},
     "output_type": "execute_result"
    }
   ],
   "source": [
    "\n",
    "show(io::IO, s::XIO3) = print(io, \"XIO3[$(s.x)×$(s.y)×$(s.z)]\")\n",
    "show(io::IO, s::XIO3M) = show(io, XIO3(s.x, s.y, s.z))\n",
    "show(io::IO, x::XW) = show(io, Int(x))\n",
    "show(io::IO, x::XIO) = show(io, Int(x))"
   ]
  },
  {
   "cell_type": "code",
   "execution_count": 6,
   "metadata": {},
   "outputs": [
    {
     "data": {
      "text/plain": [
       "XIO3[1×2×3]"
      ]
     },
     "execution_count": 6,
     "metadata": {},
     "output_type": "execute_result"
    }
   ],
   "source": [
    "s = XIO3(1,2,3)"
   ]
  },
  {
   "cell_type": "code",
   "execution_count": 7,
   "metadata": {},
   "outputs": [
    {
     "data": {
      "text/plain": [
       "6"
      ]
     },
     "execution_count": 7,
     "metadata": {},
     "output_type": "execute_result"
    }
   ],
   "source": [
    "sizeof(XIO3)"
   ]
  },
  {
   "cell_type": "code",
   "execution_count": 8,
   "metadata": {},
   "outputs": [
    {
     "data": {
      "text/plain": [
       "copy (generic function with 93 methods)"
      ]
     },
     "execution_count": 8,
     "metadata": {},
     "output_type": "execute_result"
    }
   ],
   "source": [
    "import Base.copy\n",
    "copy(s::XIO3) = XIO3(s.x, s.y, s.z)"
   ]
  },
  {
   "cell_type": "code",
   "execution_count": 9,
   "metadata": {},
   "outputs": [],
   "source": [
    "abstract type AbstractWeightMatrix end\n",
    "\n",
    "struct FocalMatrix <: AbstractWeightMatrix\n",
    "    isize::XIO3\n",
    "    osize::XIO3\n",
    "    radius::XIO\n",
    "    xs::Array{XIO, 2}\n",
    "    ys::Array{XIO, 2}\n",
    "    idxs::Array{XW, 2}\n",
    "    ws::Array{AW, 1}\n",
    "    nWs::XW\n",
    "end"
   ]
  },
  {
   "cell_type": "code",
   "execution_count": 10,
   "metadata": {},
   "outputs": [
    {
     "data": {
      "text/plain": [
       "FocalMatrix"
      ]
     },
     "execution_count": 10,
     "metadata": {},
     "output_type": "execute_result"
    }
   ],
   "source": [
    "function FocalMatrix(isize::XIO3, osize::XIO3, radius::Int)\n",
    "    xs::Array{XIO, 2} = fill(1, (osize.x, 2))\n",
    "    ys::Array{XIO, 2} = fill(1, (osize.y, 2))\n",
    "    idxs::Array{XW, 2} = ones(XW, osize.x, osize.y)\n",
    "    vc::XIO = 1\n",
    "\n",
    "    outinx::Float32 = isize.x/osize.x\n",
    "    outiny::Float32 = isize.y/osize.y\n",
    "    for oy = 1:osize.y\n",
    "        vc = 1 + floor(0.5 + (oy - 1) * outiny)\n",
    "        ys[oy, :] = [max(1, vc - radius), min(isize.y , vc + radius)]\n",
    "    end\n",
    "    idx = 1\n",
    "    for ox = 1:osize.x\n",
    "        vc = 1 + floor(0.5 + (ox - 1) * outinx)\n",
    "        xs[ox, :] = [max(1, vc - radius), min(isize.x, vc + radius)]\n",
    "        dix = 1 + xs[ox, 2] - xs[ox, 1]\n",
    "        for oy = 1:osize.y\n",
    "            idxs[ox, oy] = idx\n",
    "            diy = 1 + ys[oy, 2] - ys[oy, 1]\n",
    "            cellCount = dix * diy * osize.z * isize.z\n",
    "            idx += cellCount\n",
    "        end\n",
    "    end\n",
    "    ws::Array{AW, 1} = rand(idx + 1)\n",
    "    nWs::XW = idx\n",
    "    FocalMatrix(isize, osize, radius, xs, ys, idxs, ws, nWs)\n",
    "end"
   ]
  },
  {
   "cell_type": "code",
   "execution_count": 11,
   "metadata": {},
   "outputs": [
    {
     "data": {
      "text/plain": [
       "3"
      ]
     },
     "execution_count": 11,
     "metadata": {},
     "output_type": "execute_result"
    }
   ],
   "source": [
    "#=\n",
    "    const xL ix = 8, iy = 10, iz = 3;\n",
    "    const LPt isize{ix, iy, iz};\n",
    "    const xL ox = 5, oy = 4, oz = 3;\n",
    "\n",
    "=#\n",
    "is = XIO3(8,10,3)\n",
    "os = XIO3(5,4,3)\n",
    "r = 3"
   ]
  },
  {
   "cell_type": "code",
   "execution_count": 12,
   "metadata": {},
   "outputs": [
    {
     "data": {
      "text/plain": [
       "FocalMatrix(XIO3[8×10×3], XIO3[5×4×3], 3, UInt16[1 4; 1 6; … ; 3 8; 4 8], UInt16[1 4; 1 7; 3 9; 6 10], UInt32[1 145 397 649; 829 1045 1423 1801; … ; 3520 3736 4114 4492; 4762 4942 5257 5572], Float32[0.59084463, 0.76679707, 0.5662374, 0.46008533, 0.7940257, 0.8541466, 0.20058604, 0.29861426, 0.24683718, 0.5796722  …  0.708213, 0.73846525, 0.9270241, 0.4111475, 0.48356026, 0.84817374, 0.11161669, 0.7702865, 0.6142066, 0.3792697], 5797)"
      ]
     },
     "execution_count": 12,
     "metadata": {},
     "output_type": "execute_result"
    }
   ],
   "source": [
    "Random.seed!(1234)\n",
    "f = FocalMatrix(is, os, r)"
   ]
  },
  {
   "cell_type": "code",
   "execution_count": 13,
   "metadata": {},
   "outputs": [
    {
     "name": "stdout",
     "output_type": "stream",
     "text": [
      "Float32[0.59084463, 0.76679707, 0.5662374, 0.46008533, 0.7940257, 0.8541466, 0.20058604, 0.29861426, 0.24683718, 0.5796722]\n",
      "UInt16[1 4; 1 6; 1 7; 3 8; 4 8]\n",
      "UInt16[1 4; 1 7; 3 9; 6 10]\n"
     ]
    }
   ],
   "source": [
    "println(f.ws[1:10])\n",
    "println(f.xs)\n",
    "println(f.ys)"
   ]
  },
  {
   "cell_type": "code",
   "execution_count": 14,
   "metadata": {},
   "outputs": [],
   "source": [
    "# using LinearAlgebra"
   ]
  },
  {
   "cell_type": "code",
   "execution_count": 15,
   "metadata": {},
   "outputs": [
    {
     "data": {
      "text/plain": [
       "forward! (generic function with 1 method)"
      ]
     },
     "execution_count": 15,
     "metadata": {},
     "output_type": "execute_result"
    }
   ],
   "source": [
    "function forward!(m::FocalMatrix, ins::Array{AW}, outs::Array{AW})\n",
    "    idxW = 1\n",
    "    local diz = m.isize.z\n",
    "    local dix = 1; local diy = 1; local o = 0.0\n",
    "    osize = m.osize\n",
    "    isize = m.isize\n",
    "    ws = m.ws\n",
    "    xs, ys = m.xs, m.ys\n",
    "    local bz = isize.z\n",
    "    for ox::XIO in 1:osize.x\n",
    "        ax, bx = xs[ox, :]\n",
    "        dix = 1 + bx - ax\n",
    "        for oy::XIO in 1:osize.y\n",
    "            ay, by = ys[oy, :]\n",
    "            diy = 1 + by - ay\n",
    "            for oz::XIO in 1:osize.z\n",
    "                o = 0.0\n",
    "                iPos = 0\n",
    "                for ix::XIO in ax:bx, iy::XIO in ay:by\n",
    "                    for iz::XIO in 1:bz\n",
    "                        o = o + ins[iPos + iz] * ws[idxW + iz]\n",
    "                    end\n",
    "                    idxW += diz\n",
    "                    iPos += diz\n",
    "                end\n",
    "                oPos = oz + osize.z * (oy - 1) + (osize.z * osize.y) * (ox - 1)\n",
    "                outs[oPos] = o\n",
    "            end\n",
    "        end\n",
    "    end\n",
    "    outs\n",
    "end\n"
   ]
  },
  {
   "cell_type": "code",
   "execution_count": 16,
   "metadata": {},
   "outputs": [],
   "source": [
    "# ins[10:12] .* f.ws[10:12]"
   ]
  },
  {
   "cell_type": "code",
   "execution_count": 17,
   "metadata": {},
   "outputs": [
    {
     "data": {
      "text/plain": [
       "forward (generic function with 1 method)"
      ]
     },
     "execution_count": 17,
     "metadata": {},
     "output_type": "execute_result"
    }
   ],
   "source": [
    "function forward(m::FocalMatrix, ins::Array{AW}, outs::Array{AW})\n",
    "    idxW = 1\n",
    "    diz = m.isize.z\n",
    "    dix = 1; diy = 1; o = 0.0\n",
    "    osize = m.osize\n",
    "    isize = m.isize\n",
    "    #outs::Array{Float32} = fill(0.0, osize.x * osize.y * osize.z)\n",
    "    ws = m.ws\n",
    "    xs, ys = m.xs, m.ys\n",
    "    bz = isize.z\n",
    "    for ox::XIO in 1:osize.x\n",
    "        ax, bx = xs[ox, :]\n",
    "        dix = 1 + bx - ax\n",
    "        for oy in 1:osize.y\n",
    "            ay, by = ys[oy, :]\n",
    "            diy = 1 + by - ay\n",
    "            for oz in 1:osize.z\n",
    "                o::AW = 0.0\n",
    "                iPos = 0\n",
    "                for ix in ax:bx, iy in ay:by\n",
    "                    #println(\"ix $ix iy $iy iPos $iPos idxW $idxW\")\n",
    "                    for iz in 1:bz\n",
    "                        o += ins[iPos + iz] * ws[idxW + iz]\n",
    "                    end\n",
    "                    idxW += diz\n",
    "                    iPos += diz\n",
    "                end\n",
    "                oPos = oz + osize.z * (oy - 1) + (osize.z * osize.y) * (ox - 1)\n",
    "                outs[oPos] = o\n",
    "            end\n",
    "        end\n",
    "    end\n",
    "    outs\n",
    "end"
   ]
  },
  {
   "cell_type": "code",
   "execution_count": 18,
   "metadata": {},
   "outputs": [
    {
     "data": {
      "text/plain": [
       "60-element Array{Float32,1}:\n",
       " 2.9894378\n",
       " 3.4524918\n",
       " 5.414768\n",
       " 1.9698108\n",
       " 1.86852\n",
       " 3.873893\n",
       " 5.16832\n",
       " 4.373421\n",
       " 5.00158\n",
       " 4.7478986\n",
       " 3.362311\n",
       " 2.8978314\n",
       " 4.0864167\n",
       " ⋮\n",
       " 5.1043787\n",
       " 4.590091\n",
       " 2.774628\n",
       " 7.7735734\n",
       " 2.5626953\n",
       " 6.266735\n",
       " 3.5568266\n",
       " 4.9592505\n",
       " 7.5303793\n",
       " 4.5096736\n",
       " 4.193823\n",
       " 1.2336527"
      ]
     },
     "execution_count": 18,
     "metadata": {},
     "output_type": "execute_result"
    }
   ],
   "source": [
    "Random.seed!(56789)\n",
    "ins = AW.(rand([-1,1], is.x * is.y * is.z) .* rand(is.x * is.y * is.z))\n",
    "outs = zeros(AW, os.x * os.y * os.z)\n",
    "forward!(f, ins, outs)"
   ]
  },
  {
   "cell_type": "code",
   "execution_count": 19,
   "metadata": {},
   "outputs": [
    {
     "name": "stdout",
     "output_type": "stream",
     "text": [
      "Float32[2.9894378, 3.4524918, 5.414768, 1.9698108, 1.86852, 3.873893, 5.16832, 4.373421, 5.00158, 4.7478986, 3.362311, 2.8978314, 4.0864167, 4.5952425, 2.9274929, 0.6543874, 1.3638287, 6.347465, 1.7846342, 3.4823189, 3.2542682, 2.941091, 5.2828045, 2.4702134, 5.261577, 3.263958, 2.257713, 2.4319875, 4.0329046, 2.281857, 3.47669, 2.5158207, 2.8616593, 3.9551666, 3.2946434, 6.26543, 2.722341, 2.0334377, 2.7777352, 8.503659, 1.1500036, 3.6527755, 4.189236, 3.0570748, 3.3649724, 2.880071, 6.247614, 5.2673626, 5.1043787, 4.590091, 2.774628, 7.7735734, 2.5626953, 6.266735, 3.5568266, 4.9592505, 7.5303793, 4.5096736, 4.193823, 1.2336527]"
     ]
    }
   ],
   "source": [
    "print(outs)"
   ]
  },
  {
   "cell_type": "code",
   "execution_count": 20,
   "metadata": {},
   "outputs": [
    {
     "name": "stdout",
     "output_type": "stream",
     "text": [
      "Variables\n",
      "  #self#\u001b[36m::Core.Compiler.Const(forward, false)\u001b[39m\n",
      "  m\u001b[36m::FocalMatrix\u001b[39m\n",
      "  ins\u001b[36m::Array{Float32,1}\u001b[39m\n",
      "  outs\u001b[36m::Array{Float32,1}\u001b[39m\n",
      "  idxW\u001b[36m::Int64\u001b[39m\n",
      "  diz\u001b[36m::UInt16\u001b[39m\n",
      "  dix\u001b[36m::Int64\u001b[39m\n",
      "  diy\u001b[36m::Int64\u001b[39m\n",
      "  o\u001b[36m::Float32\u001b[39m\n",
      "  osize\u001b[36m::XIO3\u001b[39m\n",
      "  isize\u001b[36m::XIO3\u001b[39m\n",
      "  ws\u001b[36m::Array{Float32,1}\u001b[39m\n",
      "  xs\u001b[36m::Array{UInt16,2}\u001b[39m\n",
      "  ys\u001b[36m::Array{UInt16,2}\u001b[39m\n",
      "  bz\u001b[36m::UInt16\u001b[39m\n",
      "  @_16\u001b[33m\u001b[1m::Union{Nothing, Tuple{Int64,Int64}}\u001b[22m\u001b[39m\n",
      "  ox\u001b[36m::UInt16\u001b[39m\n",
      "  ax\u001b[36m::UInt16\u001b[39m\n",
      "  @_19\u001b[36m::Int64\u001b[39m\n",
      "  bx\u001b[36m::UInt16\u001b[39m\n",
      "  @_21\u001b[33m\u001b[1m::Union{Nothing, Tuple{Int64,Int64}}\u001b[22m\u001b[39m\n",
      "  oy\u001b[36m::Int64\u001b[39m\n",
      "  ay\u001b[36m::UInt16\u001b[39m\n",
      "  @_24\u001b[36m::Int64\u001b[39m\n",
      "  by\u001b[36m::UInt16\u001b[39m\n",
      "  @_26\u001b[33m\u001b[1m::Union{Nothing, Tuple{Int64,Int64}}\u001b[22m\u001b[39m\n",
      "  oz\u001b[36m::Int64\u001b[39m\n",
      "  iPos\u001b[36m::Int64\u001b[39m\n",
      "  @_29\u001b[33m\u001b[1m::Union{Nothing, Tuple{UInt16,UInt16}}\u001b[22m\u001b[39m\n",
      "  oPos\u001b[36m::Int64\u001b[39m\n",
      "  ix@_31\u001b[36m::UInt16\u001b[39m\n",
      "  @_32\u001b[33m\u001b[1m::Union{Nothing, Tuple{UInt16,UInt16}}\u001b[22m\u001b[39m\n",
      "  iy\u001b[36m::UInt16\u001b[39m\n",
      "  @_34\u001b[33m\u001b[1m::Union{Nothing, Tuple{Int64,Int64}}\u001b[22m\u001b[39m\n",
      "  ix@_35\u001b[36m::UInt16\u001b[39m\n",
      "  iz\u001b[36m::Int64\u001b[39m\n",
      "\n",
      "Body\u001b[36m::Array{Float32,1}\u001b[39m\n",
      "\u001b[90m1 ──\u001b[39m        (idxW = 1)\n",
      "\u001b[90m│   \u001b[39m %2   = Base.getproperty(m, :isize)\u001b[36m::XIO3\u001b[39m\n",
      "\u001b[90m│   \u001b[39m        (diz = Base.getproperty(%2, :z))\n",
      "\u001b[90m│   \u001b[39m        (dix = 1)\n",
      "\u001b[90m│   \u001b[39m        (diy = 1)\n",
      "\u001b[90m│   \u001b[39m %6   = Base.convert(Main.AW, 0.0)\u001b[36m::Core.Compiler.Const(0.0f0, false)\u001b[39m\n",
      "\u001b[90m│   \u001b[39m        (o = Core.typeassert(%6, Main.AW))\n",
      "\u001b[90m│   \u001b[39m        (osize = Base.getproperty(m, :osize))\n",
      "\u001b[90m│   \u001b[39m        (isize = Base.getproperty(m, :isize))\n",
      "\u001b[90m│   \u001b[39m        (ws = Base.getproperty(m, :ws))\n",
      "\u001b[90m│   \u001b[39m %11  = Base.getproperty(m, :xs)\u001b[36m::Array{UInt16,2}\u001b[39m\n",
      "\u001b[90m│   \u001b[39m %12  = Base.getproperty(m, :ys)\u001b[36m::Array{UInt16,2}\u001b[39m\n",
      "\u001b[90m│   \u001b[39m        (xs = %11)\n",
      "\u001b[90m│   \u001b[39m        (ys = %12)\n",
      "\u001b[90m│   \u001b[39m        (bz = Base.getproperty(isize, :z))\n",
      "\u001b[90m│   \u001b[39m %16  = Base.getproperty(osize, :x)\u001b[36m::UInt16\u001b[39m\n",
      "\u001b[90m│   \u001b[39m %17  = (1:%16)\u001b[36m::Core.Compiler.PartialStruct(UnitRange{Int64}, Any[Core.Compiler.Const(1, false), Int64])\u001b[39m\n",
      "\u001b[90m│   \u001b[39m        (@_16 = Base.iterate(%17))\n",
      "\u001b[90m│   \u001b[39m %19  = (@_16 === nothing)\u001b[36m::Bool\u001b[39m\n",
      "\u001b[90m│   \u001b[39m %20  = Base.not_int(%19)\u001b[36m::Bool\u001b[39m\n",
      "\u001b[90m└───\u001b[39m        goto #19 if not %20\n",
      "\u001b[90m2 ┄─\u001b[39m %22  = @_16::Tuple{Int64,Int64}\u001b[36m::Tuple{Int64,Int64}\u001b[39m\n",
      "\u001b[90m│   \u001b[39m %23  = Core.getfield(%22, 1)\u001b[36m::Int64\u001b[39m\n",
      "\u001b[90m│   \u001b[39m %24  = Base.convert(Main.XIO, %23)\u001b[36m::UInt16\u001b[39m\n",
      "\u001b[90m│   \u001b[39m        (ox = Core.typeassert(%24, Main.XIO))\n",
      "\u001b[90m│   \u001b[39m %26  = Core.getfield(%22, 2)\u001b[36m::Int64\u001b[39m\n",
      "\u001b[90m│   \u001b[39m %27  = Base.getindex(xs, ox, Main.:(:))\u001b[36m::Array{UInt16,1}\u001b[39m\n",
      "\u001b[90m│   \u001b[39m %28  = Base.indexed_iterate(%27, 1)\u001b[36m::Core.Compiler.PartialStruct(Tuple{UInt16,Int64}, Any[UInt16, Core.Compiler.Const(2, false)])\u001b[39m\n",
      "\u001b[90m│   \u001b[39m        (ax = Core.getfield(%28, 1))\n",
      "\u001b[90m│   \u001b[39m        (@_19 = Core.getfield(%28, 2))\n",
      "\u001b[90m│   \u001b[39m %31  = Base.indexed_iterate(%27, 2, @_19::Core.Compiler.Const(2, false))\u001b[36m::Core.Compiler.PartialStruct(Tuple{UInt16,Int64}, Any[UInt16, Core.Compiler.Const(3, false)])\u001b[39m\n",
      "\u001b[90m│   \u001b[39m        (bx = Core.getfield(%31, 1))\n",
      "\u001b[90m│   \u001b[39m %33  = (1 + bx)\u001b[36m::Int64\u001b[39m\n",
      "\u001b[90m│   \u001b[39m        (dix = %33 - ax)\n",
      "\u001b[90m│   \u001b[39m %35  = Base.getproperty(osize, :y)\u001b[36m::UInt16\u001b[39m\n",
      "\u001b[90m│   \u001b[39m %36  = (1:%35)\u001b[36m::Core.Compiler.PartialStruct(UnitRange{Int64}, Any[Core.Compiler.Const(1, false), Int64])\u001b[39m\n",
      "\u001b[90m│   \u001b[39m        (@_21 = Base.iterate(%36))\n",
      "\u001b[90m│   \u001b[39m %38  = (@_21 === nothing)\u001b[36m::Bool\u001b[39m\n",
      "\u001b[90m│   \u001b[39m %39  = Base.not_int(%38)\u001b[36m::Bool\u001b[39m\n",
      "\u001b[90m└───\u001b[39m        goto #17 if not %39\n",
      "\u001b[90m3 ┄─\u001b[39m %41  = @_21::Tuple{Int64,Int64}\u001b[36m::Tuple{Int64,Int64}\u001b[39m\n",
      "\u001b[90m│   \u001b[39m        (oy = Core.getfield(%41, 1))\n",
      "\u001b[90m│   \u001b[39m %43  = Core.getfield(%41, 2)\u001b[36m::Int64\u001b[39m\n",
      "\u001b[90m│   \u001b[39m %44  = Base.getindex(ys, oy, Main.:(:))\u001b[36m::Array{UInt16,1}\u001b[39m\n",
      "\u001b[90m│   \u001b[39m %45  = Base.indexed_iterate(%44, 1)\u001b[36m::Core.Compiler.PartialStruct(Tuple{UInt16,Int64}, Any[UInt16, Core.Compiler.Const(2, false)])\u001b[39m\n",
      "\u001b[90m│   \u001b[39m        (ay = Core.getfield(%45, 1))\n",
      "\u001b[90m│   \u001b[39m        (@_24 = Core.getfield(%45, 2))\n",
      "\u001b[90m│   \u001b[39m %48  = Base.indexed_iterate(%44, 2, @_24::Core.Compiler.Const(2, false))\u001b[36m::Core.Compiler.PartialStruct(Tuple{UInt16,Int64}, Any[UInt16, Core.Compiler.Const(3, false)])\u001b[39m\n",
      "\u001b[90m│   \u001b[39m        (by = Core.getfield(%48, 1))\n",
      "\u001b[90m│   \u001b[39m %50  = (1 + by)\u001b[36m::Int64\u001b[39m\n",
      "\u001b[90m│   \u001b[39m        (diy = %50 - ay)\n",
      "\u001b[90m│   \u001b[39m %52  = Base.getproperty(osize, :z)\u001b[36m::UInt16\u001b[39m\n",
      "\u001b[90m│   \u001b[39m %53  = (1:%52)\u001b[36m::Core.Compiler.PartialStruct(UnitRange{Int64}, Any[Core.Compiler.Const(1, false), Int64])\u001b[39m\n",
      "\u001b[90m│   \u001b[39m        (@_26 = Base.iterate(%53))\n",
      "\u001b[90m│   \u001b[39m %55  = (@_26 === nothing)\u001b[36m::Bool\u001b[39m\n",
      "\u001b[90m│   \u001b[39m %56  = Base.not_int(%55)\u001b[36m::Bool\u001b[39m\n",
      "\u001b[90m└───\u001b[39m        goto #15 if not %56\n",
      "\u001b[90m4 ┄─\u001b[39m        Core.NewvarNode(:(oPos))\n",
      "\u001b[90m│   \u001b[39m %59  = @_26::Tuple{Int64,Int64}\u001b[36m::Tuple{Int64,Int64}\u001b[39m\n",
      "\u001b[90m│   \u001b[39m        (oz = Core.getfield(%59, 1))\n",
      "\u001b[90m│   \u001b[39m %61  = Core.getfield(%59, 2)\u001b[36m::Int64\u001b[39m\n",
      "\u001b[90m│   \u001b[39m %62  = Base.convert(Main.AW, 0.0)\u001b[36m::Core.Compiler.Const(0.0f0, false)\u001b[39m\n",
      "\u001b[90m│   \u001b[39m        (o = Core.typeassert(%62, Main.AW))\n",
      "\u001b[90m│   \u001b[39m        (iPos = 0)\n",
      "\u001b[90m│   \u001b[39m %65  = (ax:bx)\u001b[36m::UnitRange{UInt16}\u001b[39m\n",
      "\u001b[90m│   \u001b[39m        (@_29 = Base.iterate(%65))\n",
      "\u001b[90m│   \u001b[39m %67  = (@_29 === nothing)\u001b[36m::Bool\u001b[39m\n",
      "\u001b[90m│   \u001b[39m %68  = Base.not_int(%67)\u001b[36m::Bool\u001b[39m\n",
      "\u001b[90m└───\u001b[39m        goto #13 if not %68\n",
      "\u001b[90m5 ┄─\u001b[39m %70  = @_29::Tuple{UInt16,UInt16}\u001b[36m::Tuple{UInt16,UInt16}\u001b[39m\n",
      "\u001b[90m│   \u001b[39m        (ix@_31 = Core.getfield(%70, 1))\n",
      "\u001b[90m│   \u001b[39m %72  = Core.getfield(%70, 2)\u001b[36m::UInt16\u001b[39m\n",
      "\u001b[90m│   \u001b[39m %73  = (ay:by)\u001b[36m::UnitRange{UInt16}\u001b[39m\n",
      "\u001b[90m│   \u001b[39m        (@_32 = Base.iterate(%73))\n",
      "\u001b[90m│   \u001b[39m %75  = (@_32 === nothing)\u001b[36m::Bool\u001b[39m\n",
      "\u001b[90m│   \u001b[39m %76  = Base.not_int(%75)\u001b[36m::Bool\u001b[39m\n",
      "\u001b[90m└───\u001b[39m        goto #11 if not %76\n",
      "\u001b[90m6 ┄─\u001b[39m %78  = ix@_31\u001b[36m::UInt16\u001b[39m\n",
      "\u001b[90m│   \u001b[39m        (ix@_35 = %78)\n",
      "\u001b[90m│   \u001b[39m %80  = @_32::Tuple{UInt16,UInt16}\u001b[36m::Tuple{UInt16,UInt16}\u001b[39m\n",
      "\u001b[90m│   \u001b[39m        (iy = Core.getfield(%80, 1))\n",
      "\u001b[90m│   \u001b[39m %82  = Core.getfield(%80, 2)\u001b[36m::UInt16\u001b[39m\n",
      "\u001b[90m│   \u001b[39m %83  = (1:bz)\u001b[36m::Core.Compiler.PartialStruct(UnitRange{Int64}, Any[Core.Compiler.Const(1, false), Int64])\u001b[39m\n",
      "\u001b[90m│   \u001b[39m        (@_34 = Base.iterate(%83))\n",
      "\u001b[90m│   \u001b[39m %85  = (@_34 === nothing)\u001b[36m::Bool\u001b[39m\n",
      "\u001b[90m│   \u001b[39m %86  = Base.not_int(%85)\u001b[36m::Bool\u001b[39m\n",
      "\u001b[90m└───\u001b[39m        goto #9 if not %86\n",
      "\u001b[90m7 ┄─\u001b[39m %88  = @_34::Tuple{Int64,Int64}\u001b[36m::Tuple{Int64,Int64}\u001b[39m\n",
      "\u001b[90m│   \u001b[39m        (iz = Core.getfield(%88, 1))\n",
      "\u001b[90m│   \u001b[39m %90  = Core.getfield(%88, 2)\u001b[36m::Int64\u001b[39m\n",
      "\u001b[90m│   \u001b[39m %91  = o\u001b[36m::Float32\u001b[39m\n",
      "\u001b[90m│   \u001b[39m %92  = (iPos + iz)\u001b[36m::Int64\u001b[39m\n",
      "\u001b[90m│   \u001b[39m %93  = Base.getindex(ins, %92)\u001b[36m::Float32\u001b[39m\n",
      "\u001b[90m│   \u001b[39m %94  = ws\u001b[36m::Array{Float32,1}\u001b[39m\n",
      "\u001b[90m│   \u001b[39m %95  = (idxW + iz)\u001b[36m::Int64\u001b[39m\n",
      "\u001b[90m│   \u001b[39m %96  = Base.getindex(%94, %95)\u001b[36m::Float32\u001b[39m\n",
      "\u001b[90m│   \u001b[39m %97  = (%93 * %96)\u001b[36m::Float32\u001b[39m\n",
      "\u001b[90m│   \u001b[39m %98  = (%91 + %97)\u001b[36m::Float32\u001b[39m\n",
      "\u001b[90m│   \u001b[39m %99  = Base.convert(Main.AW, %98)\u001b[36m::Float32\u001b[39m\n",
      "\u001b[90m│   \u001b[39m        (o = Core.typeassert(%99, Main.AW))\n",
      "\u001b[90m│   \u001b[39m        (@_34 = Base.iterate(%83, %90))\n",
      "\u001b[90m│   \u001b[39m %102 = (@_34 === nothing)\u001b[36m::Bool\u001b[39m\n",
      "\u001b[90m│   \u001b[39m %103 = Base.not_int(%102)\u001b[36m::Bool\u001b[39m\n",
      "\u001b[90m└───\u001b[39m        goto #9 if not %103\n",
      "\u001b[90m8 ──\u001b[39m        goto #7\n",
      "\u001b[90m9 ┄─\u001b[39m        (idxW = idxW + diz)\n",
      "\u001b[90m│   \u001b[39m        (iPos = iPos + diz)\n",
      "\u001b[90m│   \u001b[39m        (@_32 = Base.iterate(%73, %82))\n",
      "\u001b[90m│   \u001b[39m %109 = (@_32 === nothing)\u001b[36m::Bool\u001b[39m\n",
      "\u001b[90m│   \u001b[39m %110 = Base.not_int(%109)\u001b[36m::Bool\u001b[39m\n",
      "\u001b[90m└───\u001b[39m        goto #11 if not %110\n",
      "\u001b[90m10 ─\u001b[39m        goto #6\n",
      "\u001b[90m11 ┄\u001b[39m        (@_29 = Base.iterate(%65, %72))\n",
      "\u001b[90m│   \u001b[39m %114 = (@_29 === nothing)\u001b[36m::Bool\u001b[39m\n",
      "\u001b[90m│   \u001b[39m %115 = Base.not_int(%114)\u001b[36m::Bool\u001b[39m\n",
      "\u001b[90m└───\u001b[39m        goto #13 if not %115\n",
      "\u001b[90m12 ─\u001b[39m        goto #5\n",
      "\u001b[90m13 ┄\u001b[39m %118 = oz\u001b[36m::Int64\u001b[39m\n",
      "\u001b[90m│   \u001b[39m %119 = Base.getproperty(osize, :z)\u001b[36m::UInt16\u001b[39m\n",
      "\u001b[90m│   \u001b[39m %120 = (oy - 1)\u001b[36m::Int64\u001b[39m\n",
      "\u001b[90m│   \u001b[39m %121 = (%119 * %120)\u001b[36m::Int64\u001b[39m\n",
      "\u001b[90m│   \u001b[39m %122 = Base.getproperty(osize, :z)\u001b[36m::UInt16\u001b[39m\n",
      "\u001b[90m│   \u001b[39m %123 = Base.getproperty(osize, :y)\u001b[36m::UInt16\u001b[39m\n",
      "\u001b[90m│   \u001b[39m %124 = (%122 * %123)\u001b[36m::UInt16\u001b[39m\n",
      "\u001b[90m│   \u001b[39m %125 = (ox - 1)\u001b[36m::Int64\u001b[39m\n",
      "\u001b[90m│   \u001b[39m %126 = (%124 * %125)\u001b[36m::Int64\u001b[39m\n",
      "\u001b[90m│   \u001b[39m        (oPos = %118 + %121 + %126)\n",
      "\u001b[90m│   \u001b[39m        Base.setindex!(outs, o, oPos)\n",
      "\u001b[90m│   \u001b[39m        (@_26 = Base.iterate(%53, %61))\n",
      "\u001b[90m│   \u001b[39m %130 = (@_26 === nothing)\u001b[36m::Bool\u001b[39m\n",
      "\u001b[90m│   \u001b[39m %131 = Base.not_int(%130)\u001b[36m::Bool\u001b[39m\n",
      "\u001b[90m└───\u001b[39m        goto #15 if not %131\n",
      "\u001b[90m14 ─\u001b[39m        goto #4\n",
      "\u001b[90m15 ┄\u001b[39m        (@_21 = Base.iterate(%36, %43))\n",
      "\u001b[90m│   \u001b[39m %135 = (@_21 === nothing)\u001b[36m::Bool\u001b[39m\n",
      "\u001b[90m│   \u001b[39m %136 = Base.not_int(%135)\u001b[36m::Bool\u001b[39m\n",
      "\u001b[90m└───\u001b[39m        goto #17 if not %136\n",
      "\u001b[90m16 ─\u001b[39m        goto #3\n",
      "\u001b[90m17 ┄\u001b[39m        (@_16 = Base.iterate(%17, %26))\n",
      "\u001b[90m│   \u001b[39m %140 = (@_16 === nothing)\u001b[36m::Bool\u001b[39m\n",
      "\u001b[90m│   \u001b[39m %141 = Base.not_int(%140)\u001b[36m::Bool\u001b[39m\n",
      "\u001b[90m└───\u001b[39m        goto #19 if not %141\n",
      "\u001b[90m18 ─\u001b[39m        goto #2\n",
      "\u001b[90m19 ┄\u001b[39m        return outs\n"
     ]
    }
   ],
   "source": [
    "@code_warntype forward(f, ins, outs)"
   ]
  },
  {
   "cell_type": "code",
   "execution_count": 21,
   "metadata": {},
   "outputs": [
    {
     "data": {
      "text/plain": [
       "60-element Array{Float32,1}:\n",
       " 2.9894376\n",
       " 3.4524927\n",
       " 5.4147687\n",
       " 1.9698106\n",
       " 1.8685198\n",
       " 3.8738937\n",
       " 5.168321\n",
       " 4.3734217\n",
       " 5.0015807\n",
       " 4.747899\n",
       " 3.3623106\n",
       " 2.897831\n",
       " 4.086417\n",
       " ⋮\n",
       " 5.104381\n",
       " 4.5900908\n",
       " 2.774628\n",
       " 7.7735715\n",
       " 2.5626953\n",
       " 6.266736\n",
       " 3.5568268\n",
       " 4.959251\n",
       " 7.530379\n",
       " 4.5096745\n",
       " 4.193823\n",
       " 1.2336526"
      ]
     },
     "execution_count": 21,
     "metadata": {},
     "output_type": "execute_result"
    }
   ],
   "source": [
    "outs = zeros(AW, os.x * os.y * os.z)\n",
    "forward(f, ins, outs)"
   ]
  },
  {
   "cell_type": "code",
   "execution_count": 22,
   "metadata": {},
   "outputs": [
    {
     "name": "stdout",
     "output_type": "stream",
     "text": [
      "Float32[2.9894376, 3.4524927, 5.4147687, 1.9698106, 1.8685198, 3.8738937, 5.168321, 4.3734217, 5.0015807, 4.747899, 3.3623106, 2.897831, 4.086417, 4.595243, 2.9274924, 0.6543875, 1.363829, 6.3474665, 1.7846344, 3.4823186, 3.2542672, 2.9410915, 5.2828035, 2.4702127, 5.261576, 3.2639582, 2.2577138, 2.4319873, 4.032905, 2.2818565, 3.4766881, 2.515821, 2.8616586, 3.9551675, 3.2946434, 6.2654314, 2.722341, 2.0334377, 2.7777362, 8.503656, 1.1500053, 3.6527767, 4.1892343, 3.0570745, 3.3649707, 2.880071, 6.2476134, 5.267362, 5.104381, 4.5900908, 2.774628, 7.7735715, 2.5626953, 6.266736, 3.5568268, 4.959251, 7.530379, 4.5096745, 4.193823, 1.2336526]"
     ]
    }
   ],
   "source": [
    "print(outs)"
   ]
  },
  {
   "cell_type": "code",
   "execution_count": 23,
   "metadata": {},
   "outputs": [
    {
     "name": "stderr",
     "output_type": "stream",
     "text": [
      "┌ Info: Precompiling BenchmarkTools [6e4b80f9-dd63-53aa-95a3-0cdb28fa8baf]\n",
      "└ @ Base loading.jl:1260\n"
     ]
    }
   ],
   "source": [
    "using BenchmarkTools"
   ]
  },
  {
   "cell_type": "code",
   "execution_count": 24,
   "metadata": {},
   "outputs": [
    {
     "name": "stdout",
     "output_type": "stream",
     "text": [
      "  0.000027 seconds (25 allocations: 2.344 KiB)\n"
     ]
    },
    {
     "data": {
      "text/plain": [
       "60-element Array{Float32,1}:\n",
       " 2.9894378\n",
       " 3.4524918\n",
       " 5.414768\n",
       " 1.9698108\n",
       " 1.86852\n",
       " 3.873893\n",
       " 5.16832\n",
       " 4.373421\n",
       " 5.00158\n",
       " 4.7478986\n",
       " 3.362311\n",
       " 2.8978314\n",
       " 4.0864167\n",
       " ⋮\n",
       " 5.1043787\n",
       " 4.590091\n",
       " 2.774628\n",
       " 7.7735734\n",
       " 2.5626953\n",
       " 6.266735\n",
       " 3.5568266\n",
       " 4.9592505\n",
       " 7.5303793\n",
       " 4.5096736\n",
       " 4.193823\n",
       " 1.2336527"
      ]
     },
     "execution_count": 24,
     "metadata": {},
     "output_type": "execute_result"
    }
   ],
   "source": [
    "@time forward!(f, ins, outs)"
   ]
  },
  {
   "cell_type": "code",
   "execution_count": 25,
   "metadata": {},
   "outputs": [
    {
     "data": {
      "text/plain": [
       "BenchmarkTools.Trial: \n",
       "  memory estimate:  2.34 KiB\n",
       "  allocs estimate:  25\n",
       "  --------------\n",
       "  minimum time:     10.358 μs (0.00% GC)\n",
       "  median time:      11.303 μs (0.00% GC)\n",
       "  mean time:        12.655 μs (0.00% GC)\n",
       "  maximum time:     56.388 μs (0.00% GC)\n",
       "  --------------\n",
       "  samples:          10000\n",
       "  evals/sample:     1"
      ]
     },
     "execution_count": 25,
     "metadata": {},
     "output_type": "execute_result"
    }
   ],
   "source": [
    "@benchmark forward!(f, ins, outs)"
   ]
  },
  {
   "cell_type": "code",
   "execution_count": 26,
   "metadata": {},
   "outputs": [
    {
     "data": {
      "text/plain": [
       "BenchmarkTools.Trial: \n",
       "  memory estimate:  2.34 KiB\n",
       "  allocs estimate:  25\n",
       "  --------------\n",
       "  minimum time:     9.607 μs (0.00% GC)\n",
       "  median time:      9.782 μs (0.00% GC)\n",
       "  mean time:        9.943 μs (0.00% GC)\n",
       "  maximum time:     22.896 μs (0.00% GC)\n",
       "  --------------\n",
       "  samples:          10000\n",
       "  evals/sample:     1"
      ]
     },
     "execution_count": 26,
     "metadata": {},
     "output_type": "execute_result"
    }
   ],
   "source": [
    "@benchmark forward(f, ins, outs)"
   ]
  },
  {
   "cell_type": "code",
   "execution_count": 27,
   "metadata": {},
   "outputs": [
    {
     "name": "stdout",
     "output_type": "stream",
     "text": [
      "\t.section\t__TEXT,__text,regular,pure_instructions\n",
      "; ┌ @ In[15]:2 within `forward!'\n",
      "\tpushq\t%rbp\n",
      "\tmovq\t%rsp, %rbp\n",
      "\tpushq\t%r15\n",
      "\tpushq\t%r14\n",
      "\tpushq\t%r13\n",
      "\tpushq\t%r12\n",
      "\tpushq\t%rbx\n",
      "\tsubq\t$344, %rsp              ## imm = 0x158\n",
      "\tmovq\t%rsi, %r15\n",
      "\tvxorpd\t%xmm0, %xmm0, %xmm0\n",
      "\tvmovapd\t%xmm0, -112(%rbp)\n",
      "\tmovq\t$0, -96(%rbp)\n",
      "\tmovq\t%rsi, -376(%rbp)\n",
      "\tmovabsq\t$jl_get_ptls_states_fast, %rax\n",
      "\tcallq\t*%rax\n",
      "\tmovq\t$4, -112(%rbp)\n",
      "\tmovq\t(%rax), %rcx\n",
      "\tmovq\t%rcx, -104(%rbp)\n",
      "\tleaq\t-112(%rbp), %rcx\n",
      "\tmovq\t%rax, -200(%rbp)\n",
      "\tmovq\t%rcx, (%rax)\n",
      "\tmovq\t(%r15), %r8\n",
      "\tmovq\t16(%r15), %rax\n",
      "; │ @ In[15]:10 within `forward!'\n",
      "; │┌ @ range.jl:3 within `Colon'\n",
      "; ││┌ @ promotion.jl:282 within `promote'\n",
      "; │││┌ @ promotion.jl:259 within `_promote'\n",
      "; ││││┌ @ number.jl:7 within `convert'\n",
      "; │││││┌ @ boot.jl:707 within `Int64'\n",
      "; ││││││┌ @ boot.jl:630 within `toInt64'\n",
      "\tmovzwl\t6(%r8), %ecx\n",
      "\tmovq\t%rcx, -224(%rbp)\n",
      "\ttestq\t%rcx, %rcx\n",
      "; │└└└└└└\n",
      "\tje\tL1424\n",
      "\tmovq\t%rax, -176(%rbp)\n",
      "\tmovq\t8(%r15), %rax\n",
      "\tmovq\t%rax, -168(%rbp)\n",
      "\tmovq\t40(%r8), %rax\n",
      "\tmovq\t%rax, -160(%rbp)\n",
      "\tmovq\t16(%r8), %rcx\n",
      "\tmovq\t24(%r8), %rsi\n",
      "\tmovq\t32(%rcx), %rdi\n",
      "\txorl\t%eax, %eax\n",
      "\ttestq\t%rdi, %rdi\n",
      "\tcmovsq\t%rax, %rdi\n",
      "\tmovq\t%rdi, -216(%rbp)\n",
      "\tmovq\t%rdi, -352(%rbp)\n",
      "\tmovq\t%rcx, -120(%rbp)\n",
      "\tmovq\t24(%rcx), %rcx\n",
      "\ttestq\t%rcx, %rcx\n",
      "\tcmovsq\t%rax, %rcx\n",
      "\tmovq\t%rcx, -208(%rbp)\n",
      "\tmovq\t24(%rsi), %rcx\n",
      "\tmovq\t%rsi, -136(%rbp)\n",
      "\tmovq\t32(%rsi), %rsi\n",
      "\ttestq\t%rsi, %rsi\n",
      "\tcmovsq\t%rax, %rsi\n",
      "\tmovq\t%rsi, -144(%rbp)\n",
      "\ttestq\t%rcx, %rcx\n",
      "\tcmovsq\t%rax, %rcx\n",
      "\tmovq\t%rcx, -240(%rbp)\n",
      "\tmovl\t$1, %r15d\n",
      "\tmovl\t$1, %eax\n",
      "\tmovq\t%r8, -64(%rbp)\n",
      "\tnopw\t%cs:(%rax,%rax)\n",
      "\tnop\n",
      "L272:\n",
      "\tmovq\t%rax, -232(%rbp)\n",
      "; │ @ In[15]:11 within `forward!'\n",
      "; │┌ @ abstractarray.jl:980 within `getindex'\n",
      "; ││┌ @ multidimensional.jl:726 within `_getindex'\n",
      "; │││┌ @ abstractarray.jl:502 within `checkbounds' @ abstractarray.jl:481\n",
      "; ││││┌ @ abstractarray.jl:528 within `checkbounds_indices'\n",
      "; │││││┌ @ abstractarray.jl:559 within `checkindex'\n",
      "; ││││││┌ @ int.jl:410 within `<='\n",
      "\tmovq\t%rax, %rsi\n",
      "\tmovq\t-216(%rbp), %rax\n",
      "; ││└└└└└\n",
      "; ││┌ @ indices.jl:321 within `to_indices' @ indices.jl:325 @ multidimensional.jl:711\n",
      "; │││┌ @ multidimensional.jl:716 within `uncolon'\n",
      "; ││││┌ @ indices.jl:343 within `Slice' @ indices.jl:343\n",
      "\tmovq\t%rax, -368(%rbp)\n",
      "; ││└└└\n",
      "; ││┌ @ multidimensional.jl:726 within `_getindex'\n",
      "; │││┌ @ abstractarray.jl:502 within `checkbounds' @ abstractarray.jl:481\n",
      "; ││││┌ @ abstractarray.jl:528 within `checkbounds_indices'\n",
      "; │││││┌ @ abstractarray.jl:559 within `checkindex'\n",
      "; ││││││┌ @ int.jl:410 within `<='\n",
      "\tandq\t$65535, %rsi            ## imm = 0xFFFF\n",
      "; ││││└└└\n",
      "; ││││ @ abstractarray.jl:502 within `checkbounds'\n",
      "\tje\tL1685\n",
      "\tcmpq\t-208(%rbp), %rsi\n",
      "\tjg\tL1685\n",
      "; ││└└\n",
      "; ││┌ @ abstractarray.jl within `_getindex'\n",
      "\tmovq\t-120(%rbp), %rdi\n",
      "\tmovq\t%rsi, -128(%rbp)\n",
      "; ││└\n",
      "; ││┌ @ multidimensional.jl:727 within `_getindex'\n",
      "\tleaq\t-368(%rbp), %rdx\n",
      "\tmovabsq\t$_unsafe_getindex, %rax\n",
      "\tcallq\t*%rax\n",
      "; │└└\n",
      "; │┌ @ tuple.jl:82 within `indexed_iterate' @ tuple.jl:82\n",
      "; ││┌ @ array.jl:788 within `getindex'\n",
      "\tmovq\t8(%rax), %rcx\n",
      "\ttestq\t%rcx, %rcx\n",
      "\tje\tL1717\n",
      "; ││└\n",
      "; ││ @ tuple.jl:82 within `indexed_iterate'\n",
      "; ││┌ @ array.jl:788 within `getindex'\n",
      "\tcmpq\t$1, %rcx\n",
      "\tmovq\t-64(%rbp), %r8\n",
      "\tje\tL1759\n",
      "; │└└\n",
      "; │ @ In[15]:13 within `forward!'\n",
      "; │┌ @ range.jl:3 within `Colon'\n",
      "; ││┌ @ promotion.jl:282 within `promote'\n",
      "; │││┌ @ promotion.jl:259 within `_promote'\n",
      "; ││││┌ @ number.jl:7 within `convert'\n",
      "; │││││┌ @ boot.jl:707 within `Int64'\n",
      "; ││││││┌ @ boot.jl:630 within `toInt64'\n",
      "\tmovzwl\t8(%r8), %ecx\n",
      "\tmovq\t%rcx, -248(%rbp)\n",
      "\ttestq\t%rcx, %rcx\n",
      "; │└└└└└└\n",
      "\tje\tL1368\n",
      "\tmovq\t(%rax), %rax\n",
      "\tmovzwl\t(%rax), %ecx\n",
      "\tmovzwl\t2(%rax), %edx\n",
      "\tleal\t-1(%rcx), %eax\n",
      "\tmovq\t%rcx, -184(%rbp)\n",
      "\tcmpw\t%dx, %cx\n",
      "\tcmoval\t%eax, %edx\n",
      "\tmovl\t%edx, -44(%rbp)\n",
      "\tmovq\t-144(%rbp), %rax\n",
      "\tmovq\t%rax, -328(%rbp)\n",
      "\tmovq\t-128(%rbp), %rax\n",
      "\tleaq\t-1(%rax), %rax\n",
      "\tmovq\t%rax, -264(%rbp)\n",
      "\tmovl\t$1, %esi\n",
      "\tnopl\t(%rax)\n",
      "L464:\n",
      "\tmovq\t%rsi, -256(%rbp)\n",
      "\tmovq\t-144(%rbp), %rax\n",
      "; │ @ In[15]:14 within `forward!'\n",
      "; │┌ @ abstractarray.jl:980 within `getindex'\n",
      "; ││┌ @ indices.jl:321 within `to_indices' @ indices.jl:325 @ multidimensional.jl:711\n",
      "; │││┌ @ multidimensional.jl:716 within `uncolon'\n",
      "; ││││┌ @ indices.jl:343 within `Slice' @ indices.jl:343\n",
      "\tmovq\t%rax, -344(%rbp)\n",
      "; ││└└└\n",
      "; ││┌ @ multidimensional.jl:726 within `_getindex'\n",
      "; │││┌ @ abstractarray.jl:502 within `checkbounds' @ abstractarray.jl:481\n",
      "; ││││┌ @ abstractarray.jl:528 within `checkbounds_indices'\n",
      "; │││││┌ @ abstractarray.jl:559 within `checkindex'\n",
      "; ││││││┌ @ int.jl:410 within `<='\n",
      "\tandq\t$65535, %rsi            ## imm = 0xFFFF\n",
      "; ││││└└└\n",
      "; ││││ @ abstractarray.jl:502 within `checkbounds'\n",
      "\tje\tL1566\n",
      "\tcmpq\t-240(%rbp), %rsi\n",
      "\tjg\tL1566\n",
      "; ││└└\n",
      "; ││┌ @ abstractarray.jl within `_getindex'\n",
      "\tmovq\t-136(%rbp), %rdi\n",
      "\tmovq\t%rsi, -152(%rbp)\n",
      "; ││└\n",
      "; ││┌ @ multidimensional.jl:727 within `_getindex'\n",
      "\tleaq\t-344(%rbp), %rdx\n",
      "\tmovabsq\t$_unsafe_getindex, %rax\n",
      "\tcallq\t*%rax\n",
      "; │└└\n",
      "; │┌ @ tuple.jl:82 within `indexed_iterate' @ tuple.jl:82\n",
      "; ││┌ @ array.jl:788 within `getindex'\n",
      "\tmovq\t8(%rax), %rcx\n",
      "\ttestq\t%rcx, %rcx\n",
      "\tje\tL1601\n",
      "; ││└\n",
      "; ││ @ tuple.jl:82 within `indexed_iterate'\n",
      "; ││┌ @ array.jl:788 within `getindex'\n",
      "\tcmpq\t$1, %rcx\n",
      "\tmovq\t-64(%rbp), %r8\n",
      "\tje\tL1643\n",
      "; │└└\n",
      "; │ @ In[15]:16 within `forward!'\n",
      "; │┌ @ range.jl:3 within `Colon'\n",
      "; ││┌ @ promotion.jl:282 within `promote'\n",
      "; │││┌ @ promotion.jl:259 within `_promote'\n",
      "; ││││┌ @ number.jl:7 within `convert'\n",
      "; │││││┌ @ boot.jl:707 within `Int64'\n",
      "; ││││││┌ @ boot.jl:630 within `toInt64'\n",
      "\tmovzwl\t10(%r8), %ecx\n",
      "\ttestq\t%rcx, %rcx\n",
      "; │└└└└└└\n",
      "\tje\tL1344\n",
      "\tmovq\t(%rax), %rax\n",
      "\tmovzwl\t(%rax), %esi\n",
      "\tmovzwl\t2(%rax), %edi\n",
      "\tleal\t-1(%rsi), %eax\n",
      "\tcmpw\t%di, %si\n",
      "\tcmoval\t%eax, %edi\n",
      "\tmovq\t-152(%rbp), %rax\n",
      "\tleaq\t-1(%rax), %rax\n",
      "\tmovq\t%rax, -272(%rbp)\n",
      "; │ @ In[15]:16 within `forward!'\n",
      "; │┌ @ number.jl:7 within `convert'\n",
      "; ││┌ @ boot.jl:710 within `UInt16'\n",
      "; │││┌ @ boot.jl:660 within `toUInt16'\n",
      "; ││││┌ @ boot.jl:587 within `checked_trunc_uint'\n",
      "\tmovl\t%edi, %eax\n",
      "\tsubl\t%esi, %eax\n",
      "\tmovq\t%rax, -288(%rbp)\n",
      "\tmovzwl\t%ax, %ebx\n",
      "\taddl\t$1, %ebx\n",
      "\tmovl\t%ebx, -76(%rbp)\n",
      "\tleal\t1(%rdi), %eax\n",
      "\tmovq\t%rsi, -56(%rbp)\n",
      "\tsubb\t%sil, %al\n",
      "\tmovzbl\t%al, %eax\n",
      "\tandl\t$7, %eax\n",
      "\tsubl\t%eax, %ebx\n",
      "\tmovl\t%ebx, -68(%rbp)\n",
      "\tmovq\t%rdi, -192(%rbp)\n",
      "; │└└└└\n",
      "; │ @ In[15]:23 within `forward!'\n",
      "; │┌ @ int.jl:860 within `+' @ int.jl:53\n",
      "\tmovl\t%edi, %eax\n",
      "\taddl\t$1, %eax\n",
      "\tmovl\t%eax, -72(%rbp)\n",
      "\tmovl\t$1, %edx\n",
      "\tmovq\t%rcx, -280(%rbp)\n",
      "\tnopw\t%cs:(%rax,%rax)\n",
      "\tnopl\t(%rax)\n",
      "; └└\n",
      "; ┌ @ int.jl within `forward!'\n",
      "L704:\n",
      "\tvxorpd\t%xmm0, %xmm0, %xmm0\n",
      "\tmovl\t-44(%rbp), %eax\n",
      "\tcmpw\t-184(%rbp), %ax\n",
      "\tmovq\t%rdx, -296(%rbp)\n",
      "; └\n",
      "; ┌ @ In[15]:19 within `forward!'\n",
      "\tjb\tL1235\n",
      "\tmovq\t-192(%rbp), %rax\n",
      "\tcmpw\t-56(%rbp), %ax\n",
      "; │ @ In[15]:19 within `forward!'\n",
      "; │┌ @ range.jl:5 within `Colon'\n",
      "; ││┌ @ range.jl:277 within `UnitRange'\n",
      "; │││┌ @ range.jl:282 within `unitrange_last'\n",
      "; ││││┌ @ operators.jl:341 within `>='\n",
      "; │││││┌ @ int.jl:411 within `<='\n",
      "\tjb\tL1235\n",
      "; └└└└└└\n",
      "; ┌ @ int.jl within `forward!'\n",
      "\tmovzwl\t4(%r8), %edi\n",
      "\tmovq\t-168(%rbp), %rax\n",
      "\tmovq\t(%rax), %rcx\n",
      "\tmovq\t%rcx, -312(%rbp)\n",
      "\tmovq\t8(%rax), %r8\n",
      "\tmovq\t-160(%rbp), %rax\n",
      "\tmovq\t(%rax), %rcx\n",
      "\tmovq\t%rcx, -304(%rbp)\n",
      "\tmovq\t8(%rax), %r9\n",
      "; └\n",
      "; ┌ @ In[15]:20 within `forward!'\n",
      "; │┌ @ range.jl:3 within `Colon'\n",
      "; ││┌ @ promotion.jl:282 within `promote'\n",
      "; │││┌ @ promotion.jl:259 within `_promote'\n",
      "; ││││┌ @ number.jl:7 within `convert'\n",
      "; │││││┌ @ boot.jl:707 within `Int64'\n",
      "; ││││││┌ @ boot.jl:630 within `toInt64'\n",
      "\tleaq\t(,%rdi,4), %r10\n",
      "\tvxorpd\t%xmm0, %xmm0, %xmm0\n",
      "\txorl\t%ecx, %ecx\n",
      "\tmovq\t-184(%rbp), %rax\n",
      "L816:\n",
      "\ttestw\t%di, %di\n",
      "\tmovq\t%rax, -320(%rbp)\n",
      "; │││││││ @ boot.jl:630 within `toInt64'\n",
      "\tje\tL992\n",
      "; │└└└└└└\n",
      "; │┌ @ number.jl:7 within `convert'\n",
      "; ││┌ @ boot.jl:710 within `UInt16'\n",
      "; │││┌ @ boot.jl:660 within `toUInt16'\n",
      "; ││││┌ @ boot.jl:587 within `checked_trunc_uint'\n",
      "\tmovq\t%r15, %r12\n",
      "\tnotq\t%r12\n",
      "\tmovq\t-304(%rbp), %rax\n",
      "\tleaq\t(%rax,%r15,4), %rsi\n",
      "\tmovq\t%rcx, %r14\n",
      "\tnotq\t%r14\n",
      "\tmovq\t-312(%rbp), %rax\n",
      "\tleaq\t(%rax,%rcx,4), %r13\n",
      "\tmovq\t-56(%rbp), %rax\n",
      "\tnopw\t%cs:(%rax,%rax)\n",
      "; └└└└└\n",
      "; ┌ @ boot.jl within `forward!'\n",
      "L880:\n",
      "\txorl\t%ebx, %ebx\n",
      "\tnopw\t%cs:(%rax,%rax)\n",
      "\tnopl\t(%rax)\n",
      "; └\n",
      "; ┌ @ In[15]:21 within `forward!'\n",
      "; │┌ @ array.jl:788 within `getindex'\n",
      "L896:\n",
      "\tleaq\t(%rcx,%rbx), %r11\n",
      "\tcmpq\t%r8, %r11\n",
      "\tjae\tL1453\n",
      "\tleaq\t(%r15,%rbx), %rdx\n",
      "\tcmpq\t%r9, %rdx\n",
      "\tjae\tL1494\n",
      "\tvmovss\t(%r13,%rbx,4), %xmm1    ## xmm1 = mem[0],zero,zero,zero\n",
      "; │└\n",
      "; │┌ @ float.jl:404 within `*'\n",
      "\tvmulss\t(%rsi,%rbx,4), %xmm1, %xmm1\n",
      "; │└\n",
      "; │┌ @ promotion.jl:311 within `+'\n",
      "; ││┌ @ promotion.jl:282 within `promote'\n",
      "; │││┌ @ promotion.jl:259 within `_promote'\n",
      "; ││││┌ @ number.jl:7 within `convert'\n",
      "; │││││┌ @ float.jl:255 within `Float64'\n",
      "\tvcvtss2sd\t%xmm1, %xmm1, %xmm1\n",
      "; ││└└└└\n",
      "; ││ @ promotion.jl:311 within `+' @ float.jl:401\n",
      "\tvaddsd\t%xmm1, %xmm0, %xmm0\n",
      "; │└\n",
      "; │┌ @ range.jl:597 within `iterate'\n",
      "; ││┌ @ promotion.jl:398 within `=='\n",
      "\taddq\t$1, %rbx\n",
      "\tcmpq\t%rbx, %rdi\n",
      "; │└└\n",
      "\tjne\tL896\n",
      "; │ @ In[15]:23 within `forward!'\n",
      "; │┌ @ int.jl:860 within `+' @ int.jl:53\n",
      "\taddq\t%rdi, %r15\n",
      "; │└\n",
      "; │ @ In[15]:24 within `forward!'\n",
      "; │┌ @ int.jl:860 within `+' @ int.jl:53\n",
      "\taddq\t%rdi, %rcx\n",
      "; │└\n",
      "; │┌ @ range.jl:597 within `iterate'\n",
      "\tleal\t1(%rax), %ebx\n",
      "; │└\n",
      "\tsubq\t%rdi, %r12\n",
      "\taddq\t%r10, %rsi\n",
      "\tsubq\t%rdi, %r14\n",
      "\taddq\t%r10, %r13\n",
      "; │┌ @ range.jl:597 within `iterate'\n",
      "; ││┌ @ promotion.jl:398 within `=='\n",
      "\tcmpw\t-192(%rbp), %ax\n",
      "\tmovl\t%ebx, %eax\n",
      "\tjne\tL880\n",
      "\tjmp\tL1215\n",
      "\tnopl\t(%rax)\n",
      "; └└└\n",
      "; ┌ @ promotion.jl within `forward!'\n",
      "L992:\n",
      "\tmovl\t-76(%rbp), %esi\n",
      "; └\n",
      "; ┌ @ In[15]:23 within `forward!'\n",
      "; │┌ @ int.jl:860 within `+' @ int.jl:53\n",
      "\tcmpl\t$8, %esi\n",
      "\tjae\tL1011\n",
      "; ││ @ int.jl:860 within `+' @ int.jl:0\n",
      "\tmovq\t-56(%rbp), %rax\n",
      "\tmovl\t%eax, %esi\n",
      "\tjmp\tL1183\n",
      "L1011:\n",
      "\tmovq\t-288(%rbp), %rax\n",
      "; ││ @ int.jl:860 within `+' @ int.jl:53\n",
      "\tleal\t1(%rax), %eax\n",
      "\tandl\t$7, %eax\n",
      "\tsubl\t%eax, %esi\n",
      "\taddl\t-56(%rbp), %esi\n",
      "\tvmovq\t%rdi, %xmm1\n",
      "\tvpxor\t%xmm8, %xmm8, %xmm8\n",
      "\tvpinsrq\t$0, %r15, %xmm8, %xmm9\n",
      "\tvpshufd\t$68, %xmm1, %xmm6       ## xmm6 = xmm1[0,1,0,1]\n",
      "\tvpinsrq\t$0, %rcx, %xmm8, %xmm5\n",
      "\tmovl\t-68(%rbp), %ecx\n",
      "\tvpxor\t%xmm3, %xmm3, %xmm3\n",
      "\tvpxor\t%xmm4, %xmm4, %xmm4\n",
      "\tvpxor\t%xmm7, %xmm7, %xmm7\n",
      "\tvpxor\t%xmm1, %xmm1, %xmm1\n",
      "\tvpxor\t%xmm2, %xmm2, %xmm2\n",
      "\tnopw\t(%rax,%rax)\n",
      "L1088:\n",
      "\tvpaddq\t%xmm6, %xmm9, %xmm9\n",
      "\tvpaddq\t%xmm6, %xmm8, %xmm8\n",
      "\tvpaddq\t%xmm6, %xmm3, %xmm3\n",
      "\tvpaddq\t%xmm6, %xmm4, %xmm4\n",
      "; │└\n",
      "; │ @ In[15]:24 within `forward!'\n",
      "; │┌ @ int.jl:860 within `+' @ int.jl:53\n",
      "\tvpaddq\t%xmm6, %xmm5, %xmm5\n",
      "\tvpaddq\t%xmm6, %xmm7, %xmm7\n",
      "\tvpaddq\t%xmm6, %xmm1, %xmm1\n",
      "\tvpaddq\t%xmm6, %xmm2, %xmm2\n",
      "\taddl\t$-8, %ecx\n",
      "\tjne\tL1088\n",
      "\tvpaddq\t%xmm5, %xmm7, %xmm5\n",
      "\tvpaddq\t%xmm5, %xmm1, %xmm1\n",
      "\tvpaddq\t%xmm1, %xmm2, %xmm1\n",
      "\tvpshufd\t$78, %xmm1, %xmm2       ## xmm2 = xmm1[2,3,0,1]\n",
      "\tvpaddq\t%xmm2, %xmm1, %xmm1\n",
      "\tvmovq\t%xmm1, %rcx\n",
      "; │└\n",
      "; │ @ In[15]:23 within `forward!'\n",
      "; │┌ @ int.jl:860 within `+' @ int.jl:53\n",
      "\tvpaddq\t%xmm9, %xmm8, %xmm1\n",
      "\tvpaddq\t%xmm1, %xmm3, %xmm1\n",
      "\tvpaddq\t%xmm1, %xmm4, %xmm1\n",
      "\tvpshufd\t$78, %xmm1, %xmm2       ## xmm2 = xmm1[2,3,0,1]\n",
      "\tvpaddq\t%xmm2, %xmm1, %xmm1\n",
      "\tvmovq\t%xmm1, %r15\n",
      "\ttestw\t%ax, %ax\n",
      "\tje\tL1215\n",
      "; ││ @ int.jl:860 within `+' @ int.jl:0\n",
      "L1183:\n",
      "\tmovl\t-72(%rbp), %eax\n",
      "; ││ @ int.jl:860 within `+' @ int.jl:53\n",
      "\tsubl\t%esi, %eax\n",
      "\txorl\t%esi, %esi\n",
      "\tnopw\t%cs:(%rax,%rax)\n",
      "; │└\n",
      "; │ @ In[15]:24 within `forward!'\n",
      "; │┌ @ range.jl:597 within `iterate'\n",
      "; ││┌ @ promotion.jl:398 within `=='\n",
      "L1200:\n",
      "\tsubq\t%rdi, %rsi\n",
      "\taddw\t$-1, %ax\n",
      "; │└└\n",
      "\tjne\tL1200\n",
      "; │┌ @ range.jl:597 within `iterate'\n",
      "; ││┌ @ promotion.jl:398 within `=='\n",
      "\tsubq\t%rsi, %r15\n",
      "\tsubq\t%rsi, %rcx\n",
      "; │└└\n",
      "; │┌ @ promotion.jl within `iterate'\n",
      "L1215:\n",
      "\tmovq\t-320(%rbp), %rdx\n",
      "; │└\n",
      "; │┌ @ range.jl:597 within `iterate'\n",
      "\tleal\t1(%rdx), %eax\n",
      "; ││┌ @ promotion.jl:398 within `=='\n",
      "\tcmpw\t-44(%rbp), %dx\n",
      "; │└└\n",
      "\tjne\tL816\n",
      "L1235:\n",
      "\tmovq\t-272(%rbp), %rax\n",
      "\tmovq\t-280(%rbp), %rbx\n",
      "; │ @ In[15]:26 within `forward!'\n",
      "; │┌ @ int.jl:860 within `*' @ int.jl:54\n",
      "\timulq\t%rbx, %rax\n",
      "\tmovq\t-64(%rbp), %r8\n",
      "\tmovzwl\t8(%r8), %ecx\n",
      "; ││ @ int.jl:54 within `*'\n",
      "\timulw\t%bx, %cx\n",
      "; ││ @ int.jl:858 within `*'\n",
      "; ││┌ @ int.jl:447 within `rem'\n",
      "; │││┌ @ number.jl:7 within `convert'\n",
      "; ││││┌ @ boot.jl:707 within `Int64'\n",
      "; │││││┌ @ boot.jl:630 within `toInt64'\n",
      "\tmovzwl\t%cx, %ecx\n",
      "; ││└└└└\n",
      "; ││ @ int.jl:860 within `*' @ int.jl:54\n",
      "\timulq\t-264(%rbp), %rcx\n",
      "\tmovq\t-296(%rbp), %rdx\n",
      "; │└\n",
      "; │┌ @ operators.jl:529 within `+' @ int.jl:858\n",
      "; ││┌ @ int.jl:447 within `rem'\n",
      "; │││┌ @ number.jl:7 within `convert'\n",
      "; ││││┌ @ boot.jl:707 within `Int64'\n",
      "; │││││┌ @ boot.jl:630 within `toInt64'\n",
      "\tmovzwl\t%dx, %esi\n",
      "; ││└└└└\n",
      "; ││ @ operators.jl:529 within `+' @ int.jl:860 @ int.jl:53\n",
      "\taddq\t%rax, %rsi\n",
      "; ││ @ operators.jl:529 within `+' @ int.jl:53\n",
      "\tleaq\t(%rsi,%rcx), %rax\n",
      "; │└\n",
      "; │ @ In[15]:27 within `forward!'\n",
      "; │┌ @ array.jl:826 within `setindex!'\n",
      "\taddq\t%rsi, %rcx\n",
      "\taddq\t$-1, %rcx\n",
      "\tmovq\t-176(%rbp), %rdi\n",
      "\tcmpq\t8(%rdi), %rcx\n",
      "\tjae\tL1535\n",
      "; ││┌ @ number.jl:7 within `convert'\n",
      "; │││┌ @ float.jl:251 within `Float32'\n",
      "\tvcvtsd2ss\t%xmm0, %xmm0, %xmm0\n",
      "; ││└└\n",
      "\tmovq\t(%rdi), %rcx\n",
      "\tvmovss\t%xmm0, -4(%rcx,%rax,4)\n",
      "; │└\n",
      "; │┌ @ range.jl:597 within `iterate'\n",
      "; ││┌ @ promotion.jl:398 within `=='\n",
      "\tcmpq\t%rbx, %rdx\n",
      "; ││└\n",
      "\tleaq\t1(%rdx), %rdx\n",
      "; │└\n",
      "\tjne\tL704\n",
      "L1344:\n",
      "\tmovq\t-256(%rbp), %rsi\n",
      "; │ @ In[15]:27 within `forward!'\n",
      "; │┌ @ range.jl:597 within `iterate'\n",
      "; ││┌ @ promotion.jl:398 within `=='\n",
      "\tcmpq\t-248(%rbp), %rsi\n",
      "; ││└\n",
      "\tleaq\t1(%rsi), %rsi\n",
      "; │└\n",
      "\tjne\tL464\n",
      "L1368:\n",
      "\tmovq\t-232(%rbp), %rax\n",
      "; │ @ In[15]:27 within `forward!'\n",
      "; │┌ @ range.jl:597 within `iterate'\n",
      "; ││┌ @ promotion.jl:398 within `=='\n",
      "\tcmpq\t-224(%rbp), %rax\n",
      "; ││└\n",
      "\tleaq\t1(%rax), %rax\n",
      "; │└\n",
      "\tjne\tL272\n",
      "\tmovq\t-152(%rbp), %rax\n",
      "; │ @ In[15]:14 within `forward!'\n",
      "; │┌ @ abstractarray.jl:980 within `getindex'\n",
      "; ││┌ @ multidimensional.jl:726 within `_getindex'\n",
      "\tmovq\t%rax, -336(%rbp)\n",
      "\tmovq\t-128(%rbp), %rax\n",
      "; │└└\n",
      "; │ @ In[15]:11 within `forward!'\n",
      "; │┌ @ abstractarray.jl:980 within `getindex'\n",
      "; ││┌ @ multidimensional.jl:726 within `_getindex'\n",
      "\tmovq\t%rax, -360(%rbp)\n",
      "\tmovq\t-176(%rbp), %rax\n",
      "; └└└\n",
      "; ┌ @ multidimensional.jl within `forward!'\n",
      "L1424:\n",
      "\tmovq\t-104(%rbp), %rcx\n",
      "\tmovq\t-200(%rbp), %rdx\n",
      "\tmovq\t%rcx, (%rdx)\n",
      "; └\n",
      "; ┌ @ In[15]:31 within `forward!'\n",
      "\tleaq\t-40(%rbp), %rsp\n",
      "\tpopq\t%rbx\n",
      "\tpopq\t%r12\n",
      "\tpopq\t%r13\n",
      "\tpopq\t%r14\n",
      "\tpopq\t%r15\n",
      "\tpopq\t%rbp\n",
      "\tretq\n",
      "; │ @ In[15]:21 within `forward!'\n",
      "; │┌ @ array.jl:788 within `getindex'\n",
      "L1453:\n",
      "\tmovq\t%rsp, %rax\n",
      "\tleaq\t-16(%rax), %rsi\n",
      "\tmovq\t%rsi, %rsp\n",
      "\tsubq\t%r14, %rbx\n",
      "\tmovq\t%rbx, -16(%rax)\n",
      "\tmovabsq\t$jl_bounds_error_ints, %rax\n",
      "\tmovl\t$1, %edx\n",
      "\tmovq\t-168(%rbp), %rdi\n",
      "\tcallq\t*%rax\n",
      "L1494:\n",
      "\tmovq\t%rsp, %rax\n",
      "\tleaq\t-16(%rax), %rsi\n",
      "\tmovq\t%rsi, %rsp\n",
      "\tsubq\t%r12, %rbx\n",
      "\tmovq\t%rbx, -16(%rax)\n",
      "\tmovabsq\t$jl_bounds_error_ints, %rax\n",
      "\tmovl\t$1, %edx\n",
      "\tmovq\t-160(%rbp), %rdi\n",
      "\tcallq\t*%rax\n",
      "; │└\n",
      "; │ @ In[15]:27 within `forward!'\n",
      "; │┌ @ array.jl:826 within `setindex!'\n",
      "L1535:\n",
      "\tmovq\t%rsp, %rcx\n",
      "\tleaq\t-16(%rcx), %rsi\n",
      "\tmovq\t%rsi, %rsp\n",
      "\tmovq\t%rax, -16(%rcx)\n",
      "\tmovabsq\t$jl_bounds_error_ints, %rax\n",
      "\tmovl\t$1, %edx\n",
      "\tcallq\t*%rax\n",
      "; │└\n",
      "; │ @ In[15]:14 within `forward!'\n",
      "; │┌ @ abstractarray.jl:980 within `getindex'\n",
      "; ││┌ @ multidimensional.jl:726 within `_getindex'\n",
      "L1566:\n",
      "\tmovq\t%rsi, -336(%rbp)\n",
      "; │││┌ @ abstractarray.jl:502 within `checkbounds'\n",
      "\tmovabsq\t$throw_boundserror, %rax\n",
      "\tleaq\t-336(%rbp), %rsi\n",
      "\tmovq\t-136(%rbp), %rdi\n",
      "\tcallq\t*%rax\n",
      "\tud2\n",
      "; │└└└\n",
      "; │┌ @ tuple.jl:82 within `indexed_iterate' @ tuple.jl:82\n",
      "; ││┌ @ array.jl:788 within `getindex'\n",
      "L1601:\n",
      "\tmovq\t%rsp, %rcx\n",
      "\tleaq\t-16(%rcx), %rsi\n",
      "\tmovq\t%rsi, %rsp\n",
      "\tmovq\t$1, -16(%rcx)\n",
      "\tmovq\t%rax, -96(%rbp)\n",
      "\tmovabsq\t$jl_bounds_error_ints, %rcx\n",
      "\tmovl\t$1, %edx\n",
      "\tmovq\t%rax, %rdi\n",
      "\tcallq\t*%rcx\n",
      "; ││└\n",
      "; ││ @ tuple.jl:82 within `indexed_iterate'\n",
      "; ││┌ @ array.jl:788 within `getindex'\n",
      "L1643:\n",
      "\tmovq\t%rsp, %rcx\n",
      "\tleaq\t-16(%rcx), %rsi\n",
      "\tmovq\t%rsi, %rsp\n",
      "\tmovq\t$2, -16(%rcx)\n",
      "\tmovq\t%rax, -96(%rbp)\n",
      "\tmovabsq\t$jl_bounds_error_ints, %rcx\n",
      "\tmovl\t$1, %edx\n",
      "\tmovq\t%rax, %rdi\n",
      "\tcallq\t*%rcx\n",
      "; │└└\n",
      "; │ @ In[15]:11 within `forward!'\n",
      "; │┌ @ abstractarray.jl:980 within `getindex'\n",
      "; ││┌ @ multidimensional.jl:726 within `_getindex'\n",
      "L1685:\n",
      "\tmovq\t%rsi, -360(%rbp)\n",
      "; │││┌ @ abstractarray.jl:502 within `checkbounds'\n",
      "\tmovabsq\t$throw_boundserror, %rax\n",
      "\tleaq\t-360(%rbp), %rsi\n",
      "\tmovq\t-120(%rbp), %rdi\n",
      "\tcallq\t*%rax\n",
      "\tud2\n",
      "; │└└└\n",
      "; │┌ @ tuple.jl:82 within `indexed_iterate' @ tuple.jl:82\n",
      "; ││┌ @ array.jl:788 within `getindex'\n",
      "L1717:\n",
      "\tmovq\t%rsp, %rcx\n",
      "\tleaq\t-16(%rcx), %rsi\n",
      "\tmovq\t%rsi, %rsp\n",
      "\tmovq\t$1, -16(%rcx)\n",
      "\tmovq\t%rax, -96(%rbp)\n",
      "\tmovabsq\t$jl_bounds_error_ints, %rcx\n",
      "\tmovl\t$1, %edx\n",
      "\tmovq\t%rax, %rdi\n",
      "\tcallq\t*%rcx\n",
      "; ││└\n",
      "; ││ @ tuple.jl:82 within `indexed_iterate'\n",
      "; ││┌ @ array.jl:788 within `getindex'\n",
      "L1759:\n",
      "\tmovq\t%rsp, %rcx\n",
      "\tleaq\t-16(%rcx), %rsi\n",
      "\tmovq\t%rsi, %rsp\n",
      "\tmovq\t$2, -16(%rcx)\n",
      "\tmovq\t%rax, -96(%rbp)\n",
      "\tmovabsq\t$jl_bounds_error_ints, %rcx\n",
      "\tmovl\t$1, %edx\n",
      "\tmovq\t%rax, %rdi\n",
      "\tcallq\t*%rcx\n",
      "\tnopl\t(%rax)\n",
      "; └└└\n"
     ]
    }
   ],
   "source": [
    "@code_native forward!(f, ins, outs)"
   ]
  },
  {
   "cell_type": "code",
   "execution_count": 28,
   "metadata": {},
   "outputs": [],
   "source": [
    "using Profile"
   ]
  },
  {
   "cell_type": "code",
   "execution_count": 29,
   "metadata": {},
   "outputs": [
    {
     "data": {
      "text/plain": [
       "60-element Array{Float32,1}:\n",
       " 2.9894376\n",
       " 3.4524927\n",
       " 5.4147687\n",
       " 1.9698106\n",
       " 1.8685198\n",
       " 3.8738937\n",
       " 5.168321\n",
       " 4.3734217\n",
       " 5.0015807\n",
       " 4.747899\n",
       " 3.3623106\n",
       " 2.897831\n",
       " 4.086417\n",
       " ⋮\n",
       " 5.104381\n",
       " 4.5900908\n",
       " 2.774628\n",
       " 7.7735715\n",
       " 2.5626953\n",
       " 6.266736\n",
       " 3.5568268\n",
       " 4.959251\n",
       " 7.530379\n",
       " 4.5096745\n",
       " 4.193823\n",
       " 1.2336526"
      ]
     },
     "execution_count": 29,
     "metadata": {},
     "output_type": "execute_result"
    }
   ],
   "source": [
    "@profile forward(f, ins, outs)"
   ]
  },
  {
   "cell_type": "code",
   "execution_count": 30,
   "metadata": {},
   "outputs": [
    {
     "name": "stdout",
     "output_type": "stream",
     "text": [
      "Overhead ╎ [+additional indent] Count File:Line; Function\n",
      "=========================================================\n",
      " ╎5 @Base/task.jl:358; (::IJulia.var\"#15#18\")()\n",
      " ╎ 5 @IJulia/src/eventloop.jl:8; eventloop(::ZMQ.Socket)\n",
      " ╎  5 @Base/essentials.jl:711; invokelatest\n",
      " ╎   5 @Base/essentials.jl:712; #invokelatest#1\n",
      " ╎    5 ...rc/execute_request.jl:67; execute_request(::ZMQ.Socket, ::I...\n",
      " ╎     5 ...c/SoftGlobalScope.jl:218; softscope_include_string(::Modu...\n",
      "4╎    ╎ 5 @Base/boot.jl:331; eval\n",
      "Total snapshots: 5\n"
     ]
    }
   ],
   "source": [
    "Profile.print()"
   ]
  },
  {
   "cell_type": "code",
   "execution_count": null,
   "metadata": {},
   "outputs": [],
   "source": [
    "using PkgTemplates"
   ]
  },
  {
   "cell_type": "code",
   "execution_count": null,
   "metadata": {},
   "outputs": [],
   "source": [
    "t = Template(;\n",
    "    dir=\"~/src/ogmajl\",\n",
    "    plugins=[\n",
    "        Git(; manifest=true, ssh=true),\n",
    "        Codecov(),\n",
    "        TravisCI(; x86=true),\n",
    "        Documenter{TravisCI}(),\n",
    "    ],\n",
    ")"
   ]
  },
  {
   "cell_type": "code",
   "execution_count": null,
   "metadata": {},
   "outputs": [],
   "source": [
    "# t(\"OgmaJL\")"
   ]
  },
  {
   "cell_type": "code",
   "execution_count": 31,
   "metadata": {},
   "outputs": [
    {
     "data": {
      "text/plain": [
       "locateWeight (generic function with 1 method)"
      ]
     },
     "execution_count": 31,
     "metadata": {},
     "output_type": "execute_result"
    }
   ],
   "source": [
    "function locateWeight(m::FocalMatrix, index::XW) \n",
    "    o::XIO3M = XIO3M(1, 1, 1)\n",
    "    i::XIO3M = XIO3M(1, 1, 1)\n",
    "    i.z = index % m.isize.z;\n",
    "    index = 1 + div(index, m.isize.z)\n",
    "    idx::XW = 1\n",
    "    for o.x = 1:m.osize.x\n",
    "        dix::XIO = 1 + m.xs[o.x, 2] - m.xs[o.x, 1]\n",
    "        for o.y = 1:m.osize.y\n",
    "            diy::XIO = 1 + m.ys[o.y, 2] - m.ys[o.y, 1]\n",
    "            dixy::XIO = dix * diy\n",
    "            cellCount::XW = dixy * m.osize.z\n",
    "            if index < idx + cellCount\n",
    "                index -= idx\n",
    "                o.z = 1 + div(index, dixy)\n",
    "                index = index % dixy\n",
    "                i.y = m.ys[o.y, 1] + (index % diy)\n",
    "                i.x = m.xs[o.x, 1] + div(index, diy)\n",
    "                return XIO3(i.x, i.y, i.z), XIO3(o.x, o.y, o.z)\n",
    "            end\n",
    "            idx += cellCount\n",
    "        end\n",
    "    end\n",
    "    return (i.x, i.y, i.z), (o.x, o.y, o.z)\n",
    "end\n"
   ]
  },
  {
   "cell_type": "code",
   "execution_count": 32,
   "metadata": {},
   "outputs": [
    {
     "data": {
      "text/plain": [
       "locateWeight (generic function with 2 methods)"
      ]
     },
     "execution_count": 32,
     "metadata": {},
     "output_type": "execute_result"
    }
   ],
   "source": [
    "locateWeight(m::FocalMatrix, index::Int) = locateWeight(m, XW(index))"
   ]
  },
  {
   "cell_type": "code",
   "execution_count": 33,
   "metadata": {},
   "outputs": [
    {
     "data": {
      "text/plain": [
       "(XIO3[4×5×2], XIO3[4×3×1])"
      ]
     },
     "execution_count": 33,
     "metadata": {},
     "output_type": "execute_result"
    }
   ],
   "source": [
    "i, o = locateWeight(f, 4142)"
   ]
  },
  {
   "cell_type": "code",
   "execution_count": 34,
   "metadata": {},
   "outputs": [
    {
     "data": {
      "text/plain": [
       "BenchmarkTools.Trial: \n",
       "  memory estimate:  0 bytes\n",
       "  allocs estimate:  0\n",
       "  --------------\n",
       "  minimum time:     72.431 ns (0.00% GC)\n",
       "  median time:      72.695 ns (0.00% GC)\n",
       "  mean time:        77.480 ns (0.00% GC)\n",
       "  maximum time:     212.205 ns (0.00% GC)\n",
       "  --------------\n",
       "  samples:          10000\n",
       "  evals/sample:     973"
      ]
     },
     "execution_count": 34,
     "metadata": {},
     "output_type": "execute_result"
    }
   ],
   "source": [
    "@benchmark i, o = locateWeight(f, 4142)"
   ]
  },
  {
   "cell_type": "code",
   "execution_count": 35,
   "metadata": {},
   "outputs": [
    {
     "data": {
      "text/plain": [
       "sparse (generic function with 1 method)"
      ]
     },
     "execution_count": 35,
     "metadata": {},
     "output_type": "execute_result"
    }
   ],
   "source": [
    "function sparse(m::FocalMatrix, outs::Array{AW}) \n",
    "    sparse = zero.(outs)\n",
    "    tops = ones(XIO, m.osize.x * m.osize.y)\n",
    "    i::XW = 1\n",
    "    for ox::XIO = 1:m.osize.x, oy = 1:m.osize.y\n",
    "        top = outs[i]\n",
    "        itop = i\n",
    "        i += 1\n",
    "        for oz = 2:m.osize.z\n",
    "            if outs[i] > top\n",
    "                top = outs[i]\n",
    "                itop = i\n",
    "                tops[oy + (ox - 1) * m.osize.y] = oz\n",
    "            end\n",
    "            i += 1\n",
    "        end\n",
    "        sparse[itop] = top\n",
    "    end\n",
    "    return sparse, tops\n",
    "end\n"
   ]
  },
  {
   "cell_type": "code",
   "execution_count": 36,
   "metadata": {},
   "outputs": [
    {
     "data": {
      "text/plain": [
       "60-element Array{Float32,1}:\n",
       " 2.9894376\n",
       " 3.4524927\n",
       " 5.4147687\n",
       " 1.9698106\n",
       " 1.8685198\n",
       " 3.8738937\n",
       " 5.168321\n",
       " 4.3734217\n",
       " 5.0015807\n",
       " 4.747899\n",
       " 3.3623106\n",
       " 2.897831\n",
       " 4.086417\n",
       " ⋮\n",
       " 5.104381\n",
       " 4.5900908\n",
       " 2.774628\n",
       " 7.7735715\n",
       " 2.5626953\n",
       " 6.266736\n",
       " 3.5568268\n",
       " 4.959251\n",
       " 7.530379\n",
       " 4.5096745\n",
       " 4.193823\n",
       " 1.2336526"
      ]
     },
     "execution_count": 36,
     "metadata": {},
     "output_type": "execute_result"
    }
   ],
   "source": [
    "# x = ones(AW, 10)\n",
    "outs = zeros(AW, os.x * os.y * os.z)\n",
    "forward(f, ins, outs)"
   ]
  },
  {
   "cell_type": "code",
   "execution_count": 37,
   "metadata": {},
   "outputs": [
    {
     "data": {
      "text/plain": [
       "(Float32[0.0, 0.0, 5.4147687, 0.0, 0.0, 3.8738937, 5.168321, 0.0, 0.0, 4.747899  …  0.0, 7.7735715, 0.0, 0.0, 0.0, 0.0, 7.530379, 4.5096745, 0.0, 0.0], UInt16[3, 3, 1, 1, 2, 3, 2, 2, 1, 2, 1, 3, 3, 1, 1, 2, 1, 1, 3, 1])"
      ]
     },
     "execution_count": 37,
     "metadata": {},
     "output_type": "execute_result"
    }
   ],
   "source": [
    "sparseouts, tops = sparse(f, outs)"
   ]
  },
  {
   "cell_type": "code",
   "execution_count": 38,
   "metadata": {},
   "outputs": [
    {
     "name": "stdout",
     "output_type": "stream",
     "text": [
      "Float32[0.0, 0.0, 5.4147687, 0.0, 0.0, 3.8738937, 5.168321, 0.0, 0.0, 4.747899, 0.0, 0.0, 0.0, 4.595243, 0.0, 0.0, 0.0, 6.3474665, 0.0, 3.4823186, 0.0, 0.0, 5.2828035, 0.0, 5.261576, 0.0, 0.0, 0.0, 4.032905, 0.0, 3.4766881, 0.0, 0.0, 0.0, 0.0, 6.2654314, 0.0, 0.0, 2.7777362, 8.503656, 0.0, 0.0, 4.1892343, 0.0, 0.0, 0.0, 6.2476134, 0.0, 5.104381, 0.0, 0.0, 7.7735715, 0.0, 0.0, 0.0, 0.0, 7.530379, 4.5096745, 0.0, 0.0]\n",
      "[3, 3, 1, 1, 2, 3, 2, 2, 1, 2, 1, 3, 3, 1, 1, 2, 1, 1, 3, 1]\n"
     ]
    }
   ],
   "source": [
    "println(sparseouts)\n",
    "println(Int.(tops))"
   ]
  },
  {
   "cell_type": "code",
   "execution_count": 39,
   "metadata": {},
   "outputs": [
    {
     "data": {
      "text/plain": [
       "FocalMatrix(XIO3[3×4×3], XIO3[4×5×3], 1, UInt16[1 2; 1 3; 2 3; 2 3], UInt16[1 2; 1 3; … ; 2 4; 3 4], UInt32[1 37 … 145 199; 235 289 … 451 532; 586 622 … 730 784; 820 856 … 964 1018], Float32[0.59084463, 0.76679707, 0.5662374, 0.46008533, 0.7940257, 0.8541466, 0.20058604, 0.29861426, 0.24683718, 0.5796722  …  0.587723, 0.42177233, 0.4241981, 0.3947768, 0.6542789, 0.11622245, 0.7428318, 0.48858702, 0.36625502, 0.7665335], 1054)"
      ]
     },
     "execution_count": 39,
     "metadata": {},
     "output_type": "execute_result"
    }
   ],
   "source": [
    "import Random # hide\n",
    "Random.seed!(1234) # hide\n",
    "f1 = FocalMatrix(XIO3(3, 4, 3), XIO3(4, 5, 3), 1)"
   ]
  },
  {
   "cell_type": "code",
   "execution_count": 40,
   "metadata": {},
   "outputs": [
    {
     "data": {
      "text/plain": [
       "60-element Array{Float32,1}:\n",
       "  0.2664309\n",
       "  1.8382773\n",
       " -0.067347586\n",
       "  1.5660199\n",
       "  0.26483107\n",
       "  2.2840357\n",
       "  0.71645874\n",
       "  1.9513111\n",
       "  2.453909\n",
       "  0.20646897\n",
       "  0.8714455\n",
       "  2.0525088\n",
       "  0.02235264\n",
       "  ⋮\n",
       "  2.767889\n",
       "  1.1482695\n",
       "  1.3052162\n",
       "  1.0694035\n",
       "  3.3695157\n",
       "  1.2626712\n",
       "  2.4824812\n",
       "  0.7995742\n",
       "  0.70120615\n",
       "  0.70984924\n",
       "  1.0287566\n",
       "  0.99003124"
      ]
     },
     "execution_count": 40,
     "metadata": {},
     "output_type": "execute_result"
    }
   ],
   "source": [
    "Random.seed!(1234) # hide\n",
    "m = FocalMatrix(XIO3(3, 4, 3), XIO3(4, 5, 3), 1)\n",
    "Random.seed!(56789) # hide\n",
    "ins = AW.(rand([-1,1], 3 * 4 * 3) .* rand(3 * 4 * 3))\n",
    "outs = zeros(AW, 4 * 5 * 3)\n",
    "\n",
    "forward!(m, ins, outs)"
   ]
  },
  {
   "cell_type": "code",
   "execution_count": 41,
   "metadata": {},
   "outputs": [],
   "source": [
    "abstract type AbstractEncoder end\n",
    "\n",
    "struct SparseFocalEncoder <: AbstractEncoder\n",
    "    inputs::Vector{Vector{AW}}\n",
    "    outputs::Vector{AW}\n",
    "    weight_tensors::Vector{FocalMatrix}\n",
    "end"
   ]
  },
  {
   "cell_type": "code",
   "execution_count": 42,
   "metadata": {},
   "outputs": [
    {
     "data": {
      "text/plain": [
       "SparseFocalEncoder"
      ]
     },
     "execution_count": 42,
     "metadata": {},
     "output_type": "execute_result"
    }
   ],
   "source": [
    "function SparseFocalEncoder(isizes::Vector{XIO3}, osize::XIO3, radii::Vector{Int})\n",
    "    weight_tensors = [FocalMatrix(isizes[i], osize, radii[i]) for i in 1:length(isizes)]\n",
    "    inputs = [zeros(AW, isize.x * isize.y * isize.z) for isize in isizes]\n",
    "    outputs = zeros(AW, osize.x * osize.y * osize.z)\n",
    "    SparseFocalEncoder(inputs, outputs, weight_tensors)\n",
    "end"
   ]
  },
  {
   "cell_type": "code",
   "execution_count": 43,
   "metadata": {},
   "outputs": [
    {
     "data": {
      "text/plain": [
       "FocalMatrix(XIO3[3×4×3], XIO3[4×5×3], 1, UInt16[1 2; 1 3; 2 3; 2 3], UInt16[1 2; 1 3; … ; 2 4; 3 4], UInt32[1 37 … 145 199; 235 289 … 451 532; 586 622 … 730 784; 820 856 … 964 1018], Float32[0.43374178, 0.39928582, 0.67318344, 0.33292052, 0.92558473, 0.6088412, 0.78991354, 0.8466604, 0.37948284, 0.6476723  …  0.5636447, 0.82134634, 0.6928938, 0.7782518, 0.23702739, 0.23547582, 0.86335, 0.20046139, 0.1435705, 0.3372616], 1054)"
      ]
     },
     "execution_count": 43,
     "metadata": {},
     "output_type": "execute_result"
    }
   ],
   "source": [
    "f1 = FocalMatrix(XIO3(3, 4, 3), XIO3(4, 5, 3), 1)"
   ]
  },
  {
   "cell_type": "code",
   "execution_count": 44,
   "metadata": {},
   "outputs": [
    {
     "data": {
      "text/plain": [
       "SparseFocalEncoder(Array{Float32,1}[[0.0, 0.0, 0.0, 0.0, 0.0, 0.0, 0.0, 0.0, 0.0, 0.0  …  0.0, 0.0, 0.0, 0.0, 0.0, 0.0, 0.0, 0.0, 0.0, 0.0], [0.0, 0.0, 0.0, 0.0, 0.0, 0.0, 0.0, 0.0, 0.0, 0.0  …  0.0, 0.0, 0.0, 0.0, 0.0, 0.0, 0.0, 0.0, 0.0, 0.0]], Float32[0.0, 0.0, 0.0, 0.0, 0.0, 0.0, 0.0, 0.0, 0.0, 0.0  …  0.0, 0.0, 0.0, 0.0, 0.0, 0.0, 0.0, 0.0, 0.0, 0.0], FocalMatrix[FocalMatrix(XIO3[3×4×3], XIO3[4×5×3], 1, UInt16[1 2; 1 3; 2 3; 2 3], UInt16[1 2; 1 3; … ; 2 4; 3 4], UInt32[1 37 … 145 199; 235 289 … 451 532; 586 622 … 730 784; 820 856 … 964 1018], Float32[0.09329348, 0.19942068, 0.15421993, 0.09267315, 0.44426835, 0.28764495, 0.8766207, 0.53800136, 0.92338425, 0.006675155  …  0.64751536, 0.21078563, 0.96265614, 0.53268325, 0.6183985, 0.5579505, 0.53462726, 0.96415246, 0.98463225, 0.91976595], 1054), FocalMatrix(XIO3[5×3×2], XIO3[4×5×3], 1, UInt16[1 2; 1 3; 3 5; 4 5], UInt16[1 2; 1 3; … ; 2 3; 2 3], UInt32[1 25 … 97 121; 145 181 … 289 325; 361 397 … 505 541; 577 601 … 673 697], Float32[0.3208105, 0.9660189, 0.53803116, 0.06639772, 0.98956054, 0.42981905, 0.3006548, 0.53407884, 0.88191336, 0.5806022  …  0.48471123, 0.018775644, 0.56774354, 0.77511257, 0.78494155, 0.9002392, 0.45234975, 0.46598727, 0.54209423, 0.13186045], 721)])"
      ]
     },
     "execution_count": 44,
     "metadata": {},
     "output_type": "execute_result"
    }
   ],
   "source": [
    "Random.seed!(34567)\n",
    "osize = XIO3(4, 5, 3)\n",
    "isizes = [XIO3(3, 4, 3), XIO3(5, 3, 2)]\n",
    "e = SparseFocalEncoder(isizes, osize, [1, 1])"
   ]
  },
  {
   "cell_type": "code",
   "execution_count": 45,
   "metadata": {},
   "outputs": [
    {
     "data": {
      "text/plain": [
       "rand_array (generic function with 1 method)"
      ]
     },
     "execution_count": 45,
     "metadata": {},
     "output_type": "execute_result"
    }
   ],
   "source": [
    "zero_array(T::Type, s::XIO3) = zeros(T, s.x * s.y * s.z)\n",
    "rand_array(T::Type, s::XIO3) = AW.(rand([-1,1], s.x * s.y * s.z) .* rand(s.x * s.y * s.z))"
   ]
  },
  {
   "cell_type": "code",
   "execution_count": 46,
   "metadata": {},
   "outputs": [
    {
     "data": {
      "text/plain": [
       "forward! (generic function with 2 methods)"
      ]
     },
     "execution_count": 46,
     "metadata": {},
     "output_type": "execute_result"
    }
   ],
   "source": [
    "function forward!(e::SparseFocalEncoder)\n",
    "    for i in 1:length(e.weight_tensors)\n",
    "        forward!(e.weight_tensors[i], ins[i], e.outputs)\n",
    "    end\n",
    "    e.outputs\n",
    "end"
   ]
  },
  {
   "cell_type": "code",
   "execution_count": 47,
   "metadata": {},
   "outputs": [
    {
     "data": {
      "text/plain": [
       "2-element Array{Array{Float32,1},1}:\n",
       " [-0.7364922, -0.7875477, -0.219467, 0.25228944, 0.95381874, -0.7674291, -0.96530443, 0.86926484, -0.4243301, 0.22602618  …  -0.6403681, 0.5357497, -0.9401945, -0.73612064, 0.34874922, -0.19932969, 0.13570413, 0.120193616, 0.76010996, -0.13946737]\n",
       " [-0.47559175, 0.670355, 0.77992654, 0.927623, 0.4101152, -0.7436763, -0.49791625, 0.21972069, -0.71047175, -0.94052833  …  0.11339265, 0.7266594, -0.119111694, -0.102372624, -0.50460494, 0.4063471, -0.53905845, 0.72128356, 0.54966044, -0.83017486]"
      ]
     },
     "execution_count": 47,
     "metadata": {},
     "output_type": "execute_result"
    }
   ],
   "source": [
    "Random.seed!(89123)\n",
    "outs = zero_array(AW, osize)\n",
    "# outs = -1 .+ (2 .* rand(length(outs)))\n",
    "ins = [rand_array(AW, isize) for isize in isizes]"
   ]
  },
  {
   "cell_type": "code",
   "execution_count": 48,
   "metadata": {},
   "outputs": [
    {
     "data": {
      "text/plain": [
       "60-element Array{Float32,1}:\n",
       "  0.7514992\n",
       "  0.7809855\n",
       "  0.8526475\n",
       "  1.370517\n",
       " -0.18526773\n",
       " -0.08679871\n",
       " -0.43857747\n",
       "  0.04915623\n",
       "  1.158513\n",
       "  1.0250347\n",
       " -1.1880852\n",
       "  0.57661813\n",
       "  0.7848313\n",
       "  ⋮\n",
       " -0.53117216\n",
       "  0.355751\n",
       "  0.49985623\n",
       " -0.61717725\n",
       "  0.05028704\n",
       " -0.94615906\n",
       "  0.8104348\n",
       "  1.3214023\n",
       "  0.55635864\n",
       "  0.4760884\n",
       "  1.1940714\n",
       "  1.6242076"
      ]
     },
     "execution_count": 48,
     "metadata": {},
     "output_type": "execute_result"
    }
   ],
   "source": [
    "e.inputs .= ins; e.outputs .= outs\n",
    "forward!(e)"
   ]
  },
  {
   "cell_type": "code",
   "execution_count": 49,
   "metadata": {},
   "outputs": [
    {
     "name": "stdout",
     "output_type": "stream",
     "text": [
      "Float32[0.7514992, 0.7809855, 0.8526475, 1.370517, -0.18526773, -0.08679871, -0.43857747, 0.04915623, 1.158513, 1.0250347, -1.1880852, 0.57661813, 0.7848313, 0.43143368, 0.29488307, -0.48093575, 1.8385435, -0.13626836, 1.7437478, -0.87667084, 0.9475402, -0.013112253, 0.35094848, 0.31001124, 0.04208443, 0.09024589, 0.0022133125, 0.5136844, 1.7716193, 0.51258564, 0.054811314, 0.55999625, -0.50662094, -0.04656465, -0.09488313, 1.1188865, -1.050364, -0.779522, 0.5552015, 0.029693635, 0.1861073, -0.20155588, -0.0623705, 0.37859172, 0.35813853, 0.2096517, 0.85903984, 0.6273687, -0.53117216, 0.355751, 0.49985623, -0.61717725, 0.05028704, -0.94615906, 0.8104348, 1.3214023, 0.55635864, 0.4760884, 1.1940714, 1.6242076]\n"
     ]
    }
   ],
   "source": [
    "println(e.outputs)"
   ]
  },
  {
   "cell_type": "code",
   "execution_count": 50,
   "metadata": {},
   "outputs": [
    {
     "data": {
      "text/plain": [
       "sparse (generic function with 2 methods)"
      ]
     },
     "execution_count": 50,
     "metadata": {},
     "output_type": "execute_result"
    }
   ],
   "source": [
    "function sparse(osize::XIO3, outs::Array{AW})\n",
    "    sparse = zero.(outs)\n",
    "    tops = ones(XIO, osize.x * osize.y)\n",
    "    i::XW = 1\n",
    "    for ox::XIO = 1:osize.x, oy = 1:osize.y\n",
    "        top = outs[i]\n",
    "        itop = i\n",
    "        i += 1\n",
    "        for oz = 2:osize.z\n",
    "            if outs[i] > top\n",
    "                top = outs[i]\n",
    "                itop = i\n",
    "                tops[oy + (ox - 1) * osize.y] = oz\n",
    "            end\n",
    "            i += 1\n",
    "        end\n",
    "        sparse[itop] = top\n",
    "    end\n",
    "    return sparse, tops\n",
    "end\n"
   ]
  },
  {
   "cell_type": "code",
   "execution_count": 51,
   "metadata": {},
   "outputs": [
    {
     "data": {
      "text/plain": [
       "(Float32[0.0, 0.0, 0.8526475, 1.370517, 0.0, 0.0, 0.0, 0.0, 1.158513, 1.0250347  …  0.49985623, 0.0, 0.05028704, 0.0, 0.0, 1.3214023, 0.0, 0.0, 0.0, 1.6242076], UInt16[3, 1, 3, 1, 1, 2, 1, 2, 2, 2, 2, 3, 3, 2, 2, 2, 3, 2, 2, 3])"
      ]
     },
     "execution_count": 51,
     "metadata": {},
     "output_type": "execute_result"
    }
   ],
   "source": [
    "sparseouts, tops = sparse(osize, e.outputs)"
   ]
  },
  {
   "cell_type": "code",
   "execution_count": 52,
   "metadata": {},
   "outputs": [
    {
     "name": "stdout",
     "output_type": "stream",
     "text": [
      "Float32[0.0, 0.0, 0.8526475, 1.370517, 0.0, 0.0, 0.0, 0.0, 1.158513, 1.0250347, 0.0, 0.0, 0.7848313, 0.0, 0.0, 0.0, 1.8385435, 0.0, 1.7437478, 0.0, 0.0, 0.0, 0.35094848, 0.0, 0.0, 0.09024589, 0.0, 0.0, 1.7716193, 0.0, 0.0, 0.55999625, 0.0, 0.0, 0.0, 1.1188865, 0.0, 0.0, 0.5552015, 0.0, 0.1861073, 0.0, 0.0, 0.37859172, 0.0, 0.0, 0.85903984, 0.0, 0.0, 0.0, 0.49985623, 0.0, 0.05028704, 0.0, 0.0, 1.3214023, 0.0, 0.0, 0.0, 1.6242076]\n",
      "UInt16[3, 1, 3, 1, 1, 2, 1, 2, 2, 2, 2, 3, 3, 2, 2, 2, 3, 2, 2, 3]\n"
     ]
    }
   ],
   "source": [
    "println(sparseouts)\n",
    "println(tops)"
   ]
  },
  {
   "cell_type": "code",
   "execution_count": 53,
   "metadata": {},
   "outputs": [
    {
     "data": {
      "text/plain": [
       "rand_array (generic function with 1 method)"
      ]
     },
     "execution_count": 53,
     "metadata": {},
     "output_type": "execute_result"
    }
   ],
   "source": [
    "rand_array(T::Type, s::XIO3) = AW.(rand([-1,1], s.x * s.y * s.z) .* rand(s.x * s.y * s.z))"
   ]
  },
  {
   "cell_type": "code",
   "execution_count": 54,
   "metadata": {},
   "outputs": [
    {
     "data": {
      "text/plain": [
       "(Float32[0.0, 0.0, 0.5250573, 0.6120098, 0.0, 0.0, 0.0, 0.576082, 0.0, 0.0  …  0.0, 0.0, 0.0, 0.982502, 0.4270338, 0.0, 0.0, 0.5586466, 0.0, 0.0], UInt16[3, 1, 2, 3, 3, 2, 2, 3, 1, 3, 1, 1, 3, 3, 1, 3, 1, 3, 1, 1])"
      ]
     },
     "execution_count": 54,
     "metadata": {},
     "output_type": "execute_result"
    }
   ],
   "source": [
    "Random.seed!(1234) # hide\n",
    "osize = XIO3(4, 5, 3)\n",
    "outs = rand_array(AW, osize)\n",
    "sparseouts, tops = sparse(osize, outs)"
   ]
  },
  {
   "cell_type": "code",
   "execution_count": null,
   "metadata": {},
   "outputs": [],
   "source": []
  }
 ],
 "metadata": {
  "kernelspec": {
   "display_name": "JuliaPro_v1.4.2-1 1.4.2",
   "language": "julia",
   "name": "juliapro_v1.4.2-1-1.4"
  },
  "language_info": {
   "file_extension": ".jl",
   "mimetype": "application/julia",
   "name": "julia",
   "version": "1.4.2"
  }
 },
 "nbformat": 4,
 "nbformat_minor": 4
}
